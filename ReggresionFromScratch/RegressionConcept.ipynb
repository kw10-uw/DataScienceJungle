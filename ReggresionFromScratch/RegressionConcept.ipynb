{
 "cells": [
  {
   "cell_type": "markdown",
   "metadata": {},
   "source": [
    "# Building a Regression Model from Scratch \n",
    "### Author: Konrad Wroński\n",
    "### Date: 10.02.2025\n",
    "\n",
    "Link: https://www.turing.com/kb/beginners-guide-to-complete-mathematical-intuition-behind-linear-regression-algorithms"
   ]
  },
  {
   "cell_type": "markdown",
   "metadata": {},
   "source": [
    "Let's try to implement Linear Regression from scratch. \n",
    "\n",
    "The equation for Linear Regression is: Y = x*B1 + ..... + xn*Bn + B0 \n",
    "\n",
    "Sum of squared errors (SSE) should be minimized. Formula for it is: SUM(yi - yi(hat))^2. We subtract the predicted value from the actual value. We use squares to penalize large errors. \n",
    "\n",
    "Sum of squared residuals (SSR) means explained variance of the model and it should be maximized. Formula for it is: SUM(yi(hat) - y_mean)^2. We subtract the mean from the predicted value.\n"
   ]
  },
  {
   "cell_type": "markdown",
   "metadata": {},
   "source": [
    "## 1. Regression Concept"
   ]
  },
  {
   "cell_type": "markdown",
   "metadata": {},
   "source": [
    "<img src=\"https://images.prismic.io/turing/659809c7531ac2845a272536_image4_11zon_d6c6352c9b.webp?auto=format,compress\" alt=\"Alternative text\" />"
   ]
  },
  {
   "cell_type": "markdown",
   "metadata": {},
   "source": [
    "### 1.1 Calculating coefficient"
   ]
  },
  {
   "cell_type": "code",
   "execution_count": null,
   "metadata": {},
   "outputs": [],
   "source": [
    "import math \n",
    "import random\n",
    "\n",
    "def calculate_coefficient(independent_variable, target_variable):\n",
    "    ind_mean = sum(independent_variable)/len(independent_variable)\n",
    "    target_mean = sum(target_variable)/len(target_variable)\n",
    "    coef = sum((independent_variable - ind_mean)*(target_variable - target_mean))/sum(independent_variable - ind_mean)**2\n",
    "    \n",
    "    return coef"
   ]
  },
  {
   "cell_type": "markdown",
   "metadata": {},
   "source": [
    "### 1.2 Calculating intercept "
   ]
  },
  {
   "cell_type": "code",
   "execution_count": null,
   "metadata": {},
   "outputs": [],
   "source": []
  },
  {
   "cell_type": "code",
   "execution_count": null,
   "metadata": {},
   "outputs": [],
   "source": []
  }
 ],
 "metadata": {
  "language_info": {
   "name": "python"
  }
 },
 "nbformat": 4,
 "nbformat_minor": 2
}
