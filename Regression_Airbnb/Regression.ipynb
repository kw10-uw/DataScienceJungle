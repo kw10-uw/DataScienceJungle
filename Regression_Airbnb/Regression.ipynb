{
 "cells": [
  {
   "cell_type": "markdown",
   "metadata": {},
   "source": [
    "# Airbnb Price Prediction\n",
    "### Date: 05.02.2025\n",
    "### Author: Konrad Wróński\n",
    "### Dataset: https://www.kaggle.com/datasets/k