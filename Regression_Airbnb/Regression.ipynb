{
 "cells": [
  {
   "cell_type": "markdown",
   "metadata": {},
   "source": [
    "# Airbnb Price Prediction\n",
    "### Date: 05.02.2025\n",
    "### Author: Konrad Wróński\n",
    "### Dataset: https://www.kaggle.com/datasets/konradb/inside-airbnb-netherlands\n",
    "Description: Based on Airbnb data, I will try to predict the price of a room. Data comes from 3 different dutch cities: Amsterdam, Rotterdam and The Hague."
   ]
  },
  {
   "cell_type": "markdown",
   "metadata": {},
   "source": [
    "### 1. Importing the libraries"
   ]
  },
  {
   "cell_type": "code",
   "execution_count": 57,
   "metadata": {},
   "outputs": [],
   "source": [
    "import kagglehub\n",
    "import pandas as pd \n",
    "import numpy as np\n",
    "import matplotlib.pyplot as plt\n",
    "import seaborn as sns\n",
    "import sklearn\n",
    "from sklearn.linear_model import LinearRegression\n",
    "from sklearn.preprocessing import StandardScaler\n",
    "from sklearn.model_selection import train_test_split"
   ]
  },
  {
   "cell_type": "markdown",
   "metadata": {},
   "source": [
    "### 2. Data Injection"
   ]
  },
  {
   "cell_type": "code",
   "execution_count": 58,
   "metadata": {},
   "outputs": [
    {
     "name": "stdout",
     "output_type": "stream",
     "text": [
      "Warning: Looks like you're using an outdated `kagglehub` version (installed: 0.3.6), please consider upgrading to the latest version (0.3.7).\n",
      "Path to dataset files: /Users/konradwronski/.cache/kagglehub/datasets/konradb/inside-airbnb-netherlands/versions/2\n"
     ]
    }
   ],
   "source": [
    "path = kagglehub.dataset_download(\"konradb/inside-airbnb-netherlands\")\n",
    "\n",
    "print(\"Path to dataset files:\", path)"
   ]
  },
  {
   "cell_type": "code",
   "execution_count": 59,
   "metadata": {},
   "outputs": [],
   "source": [
    "amsterdam = pd.read_csv(\"/Users/konradwronski/.cache/kagglehub/datasets/konradb/inside-airbnb-netherlands/versions/2/netherlands/Amsterdam/listings_detailed.csv\")\n",
    "rotterdam = pd.read_csv(\"/Users/konradwronski/.cache/kagglehub/datasets/konradb/inside-airbnb-netherlands/versions/2/netherlands/Rotterdam/listings_detailed.csv\")\n",
    "hague = pd.read_csv(\"/Users/konradwronski/.cache/kagglehub/datasets/konradb/inside-airbnb-netherlands/versions/2/netherlands/The Hague/listings_detailed.csv\")"
   ]
  },
  {
   "cell_type": "markdown",
   "metadata": {},
   "source": [
    "### 3.Data Cleaning"
   ]
  },
  {
   "cell_type": "code",
   "execution_count": 60,
   "metadata": {},
   "outputs": [
    {
     "data": {
      "text/html": [
       "<div>\n",
       "<style scoped>\n",
       "    .dataframe tbody tr th:only-of-type {\n",
       "        vertical-align: middle;\n",
       "    }\n",
       "\n",
       "    .dataframe tbody tr th {\n",
       "        vertical-align: top;\n",
       "    }\n",
       "\n",
       "    .dataframe thead th {\n",
       "        text-align: right;\n",
       "    }\n",
       "</style>\n",
       "<table border=\"1\" class=\"dataframe\">\n",
       "  <thead>\n",
       "    <tr style=\"text-align: right;\">\n",
       "      <th></th>\n",
       "      <th>id</th>\n",
       "      <th>listing_url</th>\n",
       "      <th>scrape_id</th>\n",
       "      <th>last_scraped</th>\n",
       "      <th>source</th>\n",
       "      <th>name</th>\n",
       "      <th>description</th>\n",
       "      <th>neighborhood_overview</th>\n",
       "      <th>picture_url</th>\n",
       "      <th>host_id</th>\n",
       "      <th>...</th>\n",
       "      <th>review_scores_communication</th>\n",
       "      <th>review_scores_location</th>\n",
       "      <th>review_scores_value</th>\n",
       "      <th>license</th>\n",
       "      <th>instant_bookable</th>\n",
       "      <th>calculated_host_listings_count</th>\n",
       "      <th>calculated_host_listings_count_entire_homes</th>\n",
       "      <th>calculated_host_listings_count_private_rooms</th>\n",
       "      <th>calculated_host_listings_count_shared_rooms</th>\n",
       "      <th>reviews_per_month</th>\n",
       "    </tr>\n",
       "  </thead>\n",
       "  <tbody>\n",
       "    <tr>\n",
       "      <th>0</th>\n",
       "      <td>2818</td>\n",
       "      <td>https://www.airbnb.com/rooms/2818</td>\n",
       "      <td>20230309202119</td>\n",
       "      <td>2023-03-09</td>\n",
       "      <td>city scrape</td>\n",
       "      <td>Quiet Garden View Room &amp; Super Fast Wi-Fi</td>\n",
       "      <td>Quiet Garden View Room &amp; Super Fast Wi-Fi&lt;br /...</td>\n",
       "      <td>Indische Buurt (\"Indies Neighborhood\") is a ne...</td>\n",
       "      <td>https://a0.muscache.com/pictures/10272854/8dcc...</td>\n",
       "      <td>3159</td>\n",
       "      <td>...</td>\n",
       "      <td>4.98</td>\n",
       "      <td>4.69</td>\n",
       "      <td>4.81</td>\n",
       "      <td>0363 5F3A 5684 6750 D14D</td>\n",
       "      <td>f</td>\n",
       "      <td>1</td>\n",
       "      <td>0</td>\n",
       "      <td>1</td>\n",
       "      <td>0</td>\n",
       "      <td>1.90</td>\n",
       "    </tr>\n",
       "    <tr>\n",
       "      <th>1</th>\n",
       "      <td>311124</td>\n",
       "      <td>https://www.airbnb.com/rooms/311124</td>\n",
       "      <td>20230309202119</td>\n",
       "      <td>2023-03-10</td>\n",
       "      <td>city scrape</td>\n",
       "      <td>*historic centre* *bright* *canal view* *jordaan*</td>\n",
       "      <td>&gt; Please be so kind to book  ONLY AFTER  conta...</td>\n",
       "      <td>Perfect location in the lively centre. All his...</td>\n",
       "      <td>https://a0.muscache.com/pictures/5208672/5bb60...</td>\n",
       "      <td>1600010</td>\n",
       "      <td>...</td>\n",
       "      <td>4.92</td>\n",
       "      <td>4.93</td>\n",
       "      <td>4.60</td>\n",
       "      <td>0363 59D8 7D30 6CFA DC81</td>\n",
       "      <td>f</td>\n",
       "      <td>1</td>\n",
       "      <td>1</td>\n",
       "      <td>0</td>\n",
       "      <td>0</td>\n",
       "      <td>0.66</td>\n",
       "    </tr>\n",
       "  </tbody>\n",
       "</table>\n",
       "<p>2 rows × 75 columns</p>\n",
       "</div>"
      ],
      "text/plain": [
       "       id                          listing_url       scrape_id last_scraped  \\\n",
       "0    2818    https://www.airbnb.com/rooms/2818  20230309202119   2023-03-09   \n",
       "1  311124  https://www.airbnb.com/rooms/311124  20230309202119   2023-03-10   \n",
       "\n",
       "        source                                               name  \\\n",
       "0  city scrape          Quiet Garden View Room & Super Fast Wi-Fi   \n",
       "1  city scrape  *historic centre* *bright* *canal view* *jordaan*   \n",
       "\n",
       "                                         description  \\\n",
       "0  Quiet Garden View Room & Super Fast Wi-Fi<br /...   \n",
       "1  > Please be so kind to book  ONLY AFTER  conta...   \n",
       "\n",
       "                               neighborhood_overview  \\\n",
       "0  Indische Buurt (\"Indies Neighborhood\") is a ne...   \n",
       "1  Perfect location in the lively centre. All his...   \n",
       "\n",
       "                                         picture_url  host_id  ...  \\\n",
       "0  https://a0.muscache.com/pictures/10272854/8dcc...     3159  ...   \n",
       "1  https://a0.muscache.com/pictures/5208672/5bb60...  1600010  ...   \n",
       "\n",
       "  review_scores_communication review_scores_location review_scores_value  \\\n",
       "0                        4.98                   4.69                4.81   \n",
       "1                        4.92                   4.93                4.60   \n",
       "\n",
       "                    license instant_bookable calculated_host_listings_count  \\\n",
       "0  0363 5F3A 5684 6750 D14D                f                              1   \n",
       "1  0363 59D8 7D30 6CFA DC81                f                              1   \n",
       "\n",
       "  calculated_host_listings_count_entire_homes  \\\n",
       "0                                           0   \n",
       "1                                           1   \n",
       "\n",
       "  calculated_host_listings_count_private_rooms  \\\n",
       "0                                            1   \n",
       "1                                            0   \n",
       "\n",
       "  calculated_host_listings_count_shared_rooms reviews_per_month  \n",
       "0                                           0              1.90  \n",
       "1                                           0              0.66  \n",
       "\n",
       "[2 rows x 75 columns]"
      ]
     },
     "execution_count": 60,
     "metadata": {},
     "output_type": "execute_result"
    }
   ],
   "source": [
    "amsterdam.head(2)"
   ]
  },
  {
   "cell_type": "code",
   "execution_count": 61,
   "metadata": {},
   "outputs": [
    {
     "data": {
      "text/html": [
       "<div>\n",
       "<style scoped>\n",
       "    .dataframe tbody tr th:only-of-type {\n",
       "        vertical-align: middle;\n",
       "    }\n",
       "\n",
       "    .dataframe tbody tr th {\n",
       "        vertical-align: top;\n",
       "    }\n",
       "\n",
       "    .dataframe thead th {\n",
       "        text-align: right;\n",
       "    }\n",
       "</style>\n",
       "<table border=\"1\" class=\"dataframe\">\n",
       "  <thead>\n",
       "    <tr style=\"text-align: right;\">\n",
       "      <th></th>\n",
       "      <th>id</th>\n",
       "      <th>listing_url</th>\n",
       "      <th>scrape_id</th>\n",
       "      <th>last_scraped</th>\n",
       "      <th>source</th>\n",
       "      <th>name</th>\n",
       "      <th>description</th>\n",
       "      <th>neighborhood_overview</th>\n",
       "      <th>picture_url</th>\n",
       "      <th>host_id</th>\n",
       "      <th>...</th>\n",
       "      <th>review_scores_communication</th>\n",
       "      <th>review_scores_location</th>\n",
       "      <th>review_scores_value</th>\n",
       "      <th>license</th>\n",
       "      <th>instant_bookable</th>\n",
       "      <th>calculated_host_listings_count</th>\n",
       "      <th>calculated_host_listings_count_entire_homes</th>\n",
       "      <th>calculated_host_listings_count_private_rooms</th>\n",
       "      <th>calculated_host_listings_count_shared_rooms</th>\n",
       "      <th>reviews_per_month</th>\n",
       "    </tr>\n",
       "  </thead>\n",
       "  <tbody>\n",
       "    <tr>\n",
       "      <th>0</th>\n",
       "      <td>73155</td>\n",
       "      <td>https://www.airbnb.com/rooms/73155</td>\n",
       "      <td>20230326235203</td>\n",
       "      <td>2023-03-27</td>\n",
       "      <td>city scrape</td>\n",
       "      <td>Apartment in centre of Rotterdam</td>\n",
       "      <td>This bright comfortable one bedroom apartment ...</td>\n",
       "      <td>The apartment is in a quiet side street of the...</td>\n",
       "      <td>https://a0.muscache.com/pictures/712479/b2531a...</td>\n",
       "      <td>381163</td>\n",
       "      <td>...</td>\n",
       "      <td>4.95</td>\n",
       "      <td>4.97</td>\n",
       "      <td>4.86</td>\n",
       "      <td>0599 D9BA 806A 9A56 BDBB</td>\n",
       "      <td>f</td>\n",
       "      <td>1</td>\n",
       "      <td>1</td>\n",
       "      <td>0</td>\n",
       "      <td>0</td>\n",
       "      <td>0.78</td>\n",
       "    </tr>\n",
       "    <tr>\n",
       "      <th>1</th>\n",
       "      <td>77592</td>\n",
       "      <td>https://www.airbnb.com/rooms/77592</td>\n",
       "      <td>20230326235203</td>\n",
       "      <td>2023-03-27</td>\n",
       "      <td>city scrape</td>\n",
       "      <td>Charming, Cozy Rotterdam Center</td>\n",
       "      <td>&lt;b&gt;The space&lt;/b&gt;&lt;br /&gt;Welcome to Rotterdam!  &lt;...</td>\n",
       "      <td>NaN</td>\n",
       "      <td>https://a0.muscache.com/pictures/e96512a1-b4c7...</td>\n",
       "      <td>416305</td>\n",
       "      <td>...</td>\n",
       "      <td>4.61</td>\n",
       "      <td>4.83</td>\n",
       "      <td>4.56</td>\n",
       "      <td>Exempt</td>\n",
       "      <td>f</td>\n",
       "      <td>1</td>\n",
       "      <td>1</td>\n",
       "      <td>0</td>\n",
       "      <td>0</td>\n",
       "      <td>0.12</td>\n",
       "    </tr>\n",
       "  </tbody>\n",
       "</table>\n",
       "<p>2 rows × 75 columns</p>\n",
       "</div>"
      ],
      "text/plain": [
       "      id                         listing_url       scrape_id last_scraped  \\\n",
       "0  73155  https://www.airbnb.com/rooms/73155  20230326235203   2023-03-27   \n",
       "1  77592  https://www.airbnb.com/rooms/77592  20230326235203   2023-03-27   \n",
       "\n",
       "        source                              name  \\\n",
       "0  city scrape  Apartment in centre of Rotterdam   \n",
       "1  city scrape   Charming, Cozy Rotterdam Center   \n",
       "\n",
       "                                         description  \\\n",
       "0  This bright comfortable one bedroom apartment ...   \n",
       "1  <b>The space</b><br />Welcome to Rotterdam!  <...   \n",
       "\n",
       "                               neighborhood_overview  \\\n",
       "0  The apartment is in a quiet side street of the...   \n",
       "1                                                NaN   \n",
       "\n",
       "                                         picture_url  host_id  ...  \\\n",
       "0  https://a0.muscache.com/pictures/712479/b2531a...   381163  ...   \n",
       "1  https://a0.muscache.com/pictures/e96512a1-b4c7...   416305  ...   \n",
       "\n",
       "  review_scores_communication review_scores_location review_scores_value  \\\n",
       "0                        4.95                   4.97                4.86   \n",
       "1                        4.61                   4.83                4.56   \n",
       "\n",
       "                    license instant_bookable calculated_host_listings_count  \\\n",
       "0  0599 D9BA 806A 9A56 BDBB                f                              1   \n",
       "1                    Exempt                f                              1   \n",
       "\n",
       "  calculated_host_listings_count_entire_homes  \\\n",
       "0                                           1   \n",
       "1                                           1   \n",
       "\n",
       "  calculated_host_listings_count_private_rooms  \\\n",
       "0                                            0   \n",
       "1                                            0   \n",
       "\n",
       "  calculated_host_listings_count_shared_rooms reviews_per_month  \n",
       "0                                           0              0.78  \n",
       "1                                           0              0.12  \n",
       "\n",
       "[2 rows x 75 columns]"
      ]
     },
     "execution_count": 61,
     "metadata": {},
     "output_type": "execute_result"
    }
   ],
   "source": [
    "rotterdam.head(2)"
   ]
  },
  {
   "cell_type": "code",
   "execution_count": 62,
   "metadata": {},
   "outputs": [
    {
     "data": {
      "text/html": [
       "<div>\n",
       "<style scoped>\n",
       "    .dataframe tbody tr th:only-of-type {\n",
       "        vertical-align: middle;\n",
       "    }\n",
       "\n",
       "    .dataframe tbody tr th {\n",
       "        vertical-align: top;\n",
       "    }\n",
       "\n",
       "    .dataframe thead th {\n",
       "        text-align: right;\n",
       "    }\n",
       "</style>\n",
       "<table border=\"1\" class=\"dataframe\">\n",
       "  <thead>\n",
       "    <tr style=\"text-align: right;\">\n",
       "      <th></th>\n",
       "      <th>id</th>\n",
       "      <th>listing_url</th>\n",
       "      <th>scrape_id</th>\n",
       "      <th>last_scraped</th>\n",
       "      <th>source</th>\n",
       "      <th>name</th>\n",
       "      <th>description</th>\n",
       "      <th>neighborhood_overview</th>\n",
       "      <th>picture_url</th>\n",
       "      <th>host_id</th>\n",
       "      <th>...</th>\n",
       "      <th>review_scores_communication</th>\n",
       "      <th>review_scores_location</th>\n",
       "      <th>review_scores_value</th>\n",
       "      <th>license</th>\n",
       "      <th>instant_bookable</th>\n",
       "      <th>calculated_host_listings_count</th>\n",
       "      <th>calculated_host_listings_count_entire_homes</th>\n",
       "      <th>calculated_host_listings_count_private_rooms</th>\n",
       "      <th>calculated_host_listings_count_shared_rooms</th>\n",
       "      <th>reviews_per_month</th>\n",
       "    </tr>\n",
       "  </thead>\n",
       "  <tbody>\n",
       "    <tr>\n",
       "      <th>0</th>\n",
       "      <td>103875</td>\n",
       "      <td>https://www.airbnb.com/rooms/103875</td>\n",
       "      <td>20230326235216</td>\n",
       "      <td>2023-03-27</td>\n",
       "      <td>city scrape</td>\n",
       "      <td>Design house-city centre-private parking</td>\n",
       "      <td>Your own modern house in the city center, surr...</td>\n",
       "      <td>This neighborhood is great, students, expats a...</td>\n",
       "      <td>https://a0.muscache.com/pictures/66433033/c313...</td>\n",
       "      <td>541315</td>\n",
       "      <td>...</td>\n",
       "      <td>5.00</td>\n",
       "      <td>4.95</td>\n",
       "      <td>4.85</td>\n",
       "      <td>0518B3A6F34367DC62EA</td>\n",
       "      <td>f</td>\n",
       "      <td>3</td>\n",
       "      <td>3</td>\n",
       "      <td>0</td>\n",
       "      <td>0</td>\n",
       "      <td>0.15</td>\n",
       "    </tr>\n",
       "    <tr>\n",
       "      <th>1</th>\n",
       "      <td>378711</td>\n",
       "      <td>https://www.airbnb.com/rooms/378711</td>\n",
       "      <td>20230326235216</td>\n",
       "      <td>2023-03-27</td>\n",
       "      <td>city scrape</td>\n",
       "      <td>ruime studio w.private kitchen/bath near beach.</td>\n",
       "      <td>Onze archictectonische half vrij staande villa...</td>\n",
       "      <td>Onze groene en rustige buurt ligt zeer gunstig...</td>\n",
       "      <td>https://a0.muscache.com/pictures/ed90f502-c421...</td>\n",
       "      <td>1902132</td>\n",
       "      <td>...</td>\n",
       "      <td>4.81</td>\n",
       "      <td>4.62</td>\n",
       "      <td>4.00</td>\n",
       "      <td>0518 8B36 A437 A071 6DE3</td>\n",
       "      <td>f</td>\n",
       "      <td>2</td>\n",
       "      <td>1</td>\n",
       "      <td>1</td>\n",
       "      <td>0</td>\n",
       "      <td>0.46</td>\n",
       "    </tr>\n",
       "  </tbody>\n",
       "</table>\n",
       "<p>2 rows × 75 columns</p>\n",
       "</div>"
      ],
      "text/plain": [
       "       id                          listing_url       scrape_id last_scraped  \\\n",
       "0  103875  https://www.airbnb.com/rooms/103875  20230326235216   2023-03-27   \n",
       "1  378711  https://www.airbnb.com/rooms/378711  20230326235216   2023-03-27   \n",
       "\n",
       "        source                                             name  \\\n",
       "0  city scrape         Design house-city centre-private parking   \n",
       "1  city scrape  ruime studio w.private kitchen/bath near beach.   \n",
       "\n",
       "                                         description  \\\n",
       "0  Your own modern house in the city center, surr...   \n",
       "1  Onze archictectonische half vrij staande villa...   \n",
       "\n",
       "                               neighborhood_overview  \\\n",
       "0  This neighborhood is great, students, expats a...   \n",
       "1  Onze groene en rustige buurt ligt zeer gunstig...   \n",
       "\n",
       "                                         picture_url  host_id  ...  \\\n",
       "0  https://a0.muscache.com/pictures/66433033/c313...   541315  ...   \n",
       "1  https://a0.muscache.com/pictures/ed90f502-c421...  1902132  ...   \n",
       "\n",
       "  review_scores_communication review_scores_location review_scores_value  \\\n",
       "0                        5.00                   4.95                4.85   \n",
       "1                        4.81                   4.62                4.00   \n",
       "\n",
       "                    license instant_bookable calculated_host_listings_count  \\\n",
       "0      0518B3A6F34367DC62EA                f                              3   \n",
       "1  0518 8B36 A437 A071 6DE3                f                              2   \n",
       "\n",
       "  calculated_host_listings_count_entire_homes  \\\n",
       "0                                           3   \n",
       "1                                           1   \n",
       "\n",
       "  calculated_host_listings_count_private_rooms  \\\n",
       "0                                            0   \n",
       "1                                            1   \n",
       "\n",
       "  calculated_host_listings_count_shared_rooms reviews_per_month  \n",
       "0                                           0              0.15  \n",
       "1                                           0              0.46  \n",
       "\n",
       "[2 rows x 75 columns]"
      ]
     },
     "execution_count": 62,
     "metadata": {},
     "output_type": "execute_result"
    }
   ],
   "source": [
    "hague.head(2)"
   ]
  },
  {
   "cell_type": "code",
   "execution_count": 63,
   "metadata": {},
   "outputs": [
    {
     "name": "stdout",
     "output_type": "stream",
     "text": [
      "<class 'pandas.core.frame.DataFrame'>\n",
      "RangeIndex: 6998 entries, 0 to 6997\n",
      "Data columns (total 75 columns):\n",
      " #   Column                                        Non-Null Count  Dtype  \n",
      "---  ------                                        --------------  -----  \n",
      " 0   id                                            6998 non-null   int64  \n",
      " 1   listing_url                                   6998 non-null   object \n",
      " 2   scrape_id                                     6998 non-null   int64  \n",
      " 3   last_scraped                                  6998 non-null   object \n",
      " 4   source                                        6998 non-null   object \n",
      " 5   name                                          6998 non-null   object \n",
      " 6   description                                   6992 non-null   object \n",
      " 7   neighborhood_overview                         4506 non-null   object \n",
      " 8   picture_url                                   6998 non-null   object \n",
      " 9   host_id                                       6998 non-null   int64  \n",
      " 10  host_url                                      6998 non-null   object \n",
      " 11  host_name                                     6998 non-null   object \n",
      " 12  host_since                                    6998 non-null   object \n",
      " 13  host_location                                 6195 non-null   object \n",
      " 14  host_about                                    4083 non-null   object \n",
      " 15  host_response_time                            4959 non-null   object \n",
      " 16  host_response_rate                            4959 non-null   object \n",
      " 17  host_acceptance_rate                          6003 non-null   object \n",
      " 18  host_is_superhost                             6994 non-null   object \n",
      " 19  host_thumbnail_url                            6998 non-null   object \n",
      " 20  host_picture_url                              6998 non-null   object \n",
      " 21  host_neighbourhood                            2976 non-null   object \n",
      " 22  host_listings_count                           6998 non-null   int64  \n",
      " 23  host_total_listings_count                     6998 non-null   int64  \n",
      " 24  host_verifications                            6998 non-null   object \n",
      " 25  host_has_profile_pic                          6998 non-null   object \n",
      " 26  host_identity_verified                        6998 non-null   object \n",
      " 27  neighbourhood                                 4506 non-null   object \n",
      " 28  neighbourhood_cleansed                        6998 non-null   object \n",
      " 29  neighbourhood_group_cleansed                  0 non-null      float64\n",
      " 30  latitude                                      6998 non-null   float64\n",
      " 31  longitude                                     6998 non-null   float64\n",
      " 32  property_type                                 6998 non-null   object \n",
      " 33  room_type                                     6998 non-null   object \n",
      " 34  accommodates                                  6998 non-null   int64  \n",
      " 35  bathrooms                                     0 non-null      float64\n",
      " 36  bathrooms_text                                6985 non-null   object \n",
      " 37  bedrooms                                      6714 non-null   float64\n",
      " 38  beds                                          6913 non-null   float64\n",
      " 39  amenities                                     6998 non-null   object \n",
      " 40  price                                         6998 non-null   object \n",
      " 41  minimum_nights                                6998 non-null   int64  \n",
      " 42  maximum_nights                                6998 non-null   int64  \n",
      " 43  minimum_minimum_nights                        6998 non-null   int64  \n",
      " 44  maximum_minimum_nights                        6998 non-null   int64  \n",
      " 45  minimum_maximum_nights                        6998 non-null   int64  \n",
      " 46  maximum_maximum_nights                        6998 non-null   int64  \n",
      " 47  minimum_nights_avg_ntm                        6998 non-null   float64\n",
      " 48  maximum_nights_avg_ntm                        6998 non-null   float64\n",
      " 49  calendar_updated                              0 non-null      float64\n",
      " 50  has_availability                              6998 non-null   object \n",
      " 51  availability_30                               6998 non-null   int64  \n",
      " 52  availability_60                               6998 non-null   int64  \n",
      " 53  availability_90                               6998 non-null   int64  \n",
      " 54  availability_365                              6998 non-null   int64  \n",
      " 55  calendar_last_scraped                         6998 non-null   object \n",
      " 56  number_of_reviews                             6998 non-null   int64  \n",
      " 57  number_of_reviews_ltm                         6998 non-null   int64  \n",
      " 58  number_of_reviews_l30d                        6998 non-null   int64  \n",
      " 59  first_review                                  6316 non-null   object \n",
      " 60  last_review                                   6316 non-null   object \n",
      " 61  review_scores_rating                          6316 non-null   float64\n",
      " 62  review_scores_accuracy                        6312 non-null   float64\n",
      " 63  review_scores_cleanliness                     6312 non-null   float64\n",
      " 64  review_scores_checkin                         6312 non-null   float64\n",
      " 65  review_scores_communication                   6312 non-null   float64\n",
      " 66  review_scores_location                        6312 non-null   float64\n",
      " 67  review_scores_value                           6312 non-null   float64\n",
      " 68  license                                       6974 non-null   object \n",
      " 69  instant_bookable                              6998 non-null   object \n",
      " 70  calculated_host_listings_count                6998 non-null   int64  \n",
      " 71  calculated_host_listings_count_entire_homes   6998 non-null   int64  \n",
      " 72  calculated_host_listings_count_private_rooms  6998 non-null   int64  \n",
      " 73  calculated_host_listings_count_shared_rooms   6998 non-null   int64  \n",
      " 74  reviews_per_month                             6316 non-null   float64\n",
      "dtypes: float64(17), int64(23), object(35)\n",
      "memory usage: 4.0+ MB\n"
     ]
    }
   ],
   "source": [
    "amsterdam.info()"
   ]
  },
  {
   "cell_type": "code",
   "execution_count": 64,
   "metadata": {},
   "outputs": [
    {
     "name": "stdout",
     "output_type": "stream",
     "text": [
      "<class 'pandas.core.frame.DataFrame'>\n",
      "RangeIndex: 892 entries, 0 to 891\n",
      "Data columns (total 75 columns):\n",
      " #   Column                                        Non-Null Count  Dtype  \n",
      "---  ------                                        --------------  -----  \n",
      " 0   id                                            892 non-null    int64  \n",
      " 1   listing_url                                   892 non-null    object \n",
      " 2   scrape_id                                     892 non-null    int64  \n",
      " 3   last_scraped                                  892 non-null    object \n",
      " 4   source                                        892 non-null    object \n",
      " 5   name                                          892 non-null    object \n",
      " 6   description                                   891 non-null    object \n",
      " 7   neighborhood_overview                         478 non-null    object \n",
      " 8   picture_url                                   892 non-null    object \n",
      " 9   host_id                                       892 non-null    int64  \n",
      " 10  host_url                                      892 non-null    object \n",
      " 11  host_name                                     892 non-null    object \n",
      " 12  host_since                                    892 non-null    object \n",
      " 13  host_location                                 714 non-null    object \n",
      " 14  host_about                                    497 non-null    object \n",
      " 15  host_response_time                            744 non-null    object \n",
      " 16  host_response_rate                            744 non-null    object \n",
      " 17  host_acceptance_rate                          843 non-null    object \n",
      " 18  host_is_superhost                             892 non-null    object \n",
      " 19  host_thumbnail_url                            892 non-null    object \n",
      " 20  host_picture_url                              892 non-null    object \n",
      " 21  host_neighbourhood                            8 non-null      object \n",
      " 22  host_listings_count                           892 non-null    int64  \n",
      " 23  host_total_listings_count                     892 non-null    int64  \n",
      " 24  host_verifications                            892 non-null    object \n",
      " 25  host_has_profile_pic                          892 non-null    object \n",
      " 26  host_identity_verified                        892 non-null    object \n",
      " 27  neighbourhood                                 478 non-null    object \n",
      " 28  neighbourhood_cleansed                        892 non-null    object \n",
      " 29  neighbourhood_group_cleansed                  892 non-null    object \n",
      " 30  latitude                                      892 non-null    float64\n",
      " 31  longitude                                     892 non-null    float64\n",
      " 32  property_type                                 892 non-null    object \n",
      " 33  room_type                                     892 non-null    object \n",
      " 34  accommodates                                  892 non-null    int64  \n",
      " 35  bathrooms                                     0 non-null      float64\n",
      " 36  bathrooms_text                                891 non-null    object \n",
      " 37  bedrooms                                      856 non-null    float64\n",
      " 38  beds                                          881 non-null    float64\n",
      " 39  amenities                                     892 non-null    object \n",
      " 40  price                                         892 non-null    object \n",
      " 41  minimum_nights                                892 non-null    int64  \n",
      " 42  maximum_nights                                892 non-null    int64  \n",
      " 43  minimum_minimum_nights                        892 non-null    int64  \n",
      " 44  maximum_minimum_nights                        892 non-null    int64  \n",
      " 45  minimum_maximum_nights                        892 non-null    int64  \n",
      " 46  maximum_maximum_nights                        892 non-null    int64  \n",
      " 47  minimum_nights_avg_ntm                        892 non-null    float64\n",
      " 48  maximum_nights_avg_ntm                        892 non-null    float64\n",
      " 49  calendar_updated                              0 non-null      float64\n",
      " 50  has_availability                              892 non-null    object \n",
      " 51  availability_30                               892 non-null    int64  \n",
      " 52  availability_60                               892 non-null    int64  \n",
      " 53  availability_90                               892 non-null    int64  \n",
      " 54  availability_365                              892 non-null    int64  \n",
      " 55  calendar_last_scraped                         892 non-null    object \n",
      " 56  number_of_reviews                             892 non-null    int64  \n",
      " 57  number_of_reviews_ltm                         892 non-null    int64  \n",
      " 58  number_of_reviews_l30d                        892 non-null    int64  \n",
      " 59  first_review                                  767 non-null    object \n",
      " 60  last_review                                   767 non-null    object \n",
      " 61  review_scores_rating                          767 non-null    float64\n",
      " 62  review_scores_accuracy                        765 non-null    float64\n",
      " 63  review_scores_cleanliness                     765 non-null    float64\n",
      " 64  review_scores_checkin                         765 non-null    float64\n",
      " 65  review_scores_communication                   765 non-null    float64\n",
      " 66  review_scores_location                        765 non-null    float64\n",
      " 67  review_scores_value                           765 non-null    float64\n",
      " 68  license                                       868 non-null    object \n",
      " 69  instant_bookable                              892 non-null    object \n",
      " 70  calculated_host_listings_count                892 non-null    int64  \n",
      " 71  calculated_host_listings_count_entire_homes   892 non-null    int64  \n",
      " 72  calculated_host_listings_count_private_rooms  892 non-null    int64  \n",
      " 73  calculated_host_listings_count_shared_rooms   892 non-null    int64  \n",
      " 74  reviews_per_month                             767 non-null    float64\n",
      "dtypes: float64(16), int64(23), object(36)\n",
      "memory usage: 522.8+ KB\n"
     ]
    }
   ],
   "source": [
    "rotterdam.info()"
   ]
  },
  {
   "cell_type": "code",
   "execution_count": 65,
   "metadata": {},
   "outputs": [
    {
     "name": "stdout",
     "output_type": "stream",
     "text": [
      "<class 'pandas.core.frame.DataFrame'>\n",
      "RangeIndex: 947 entries, 0 to 946\n",
      "Data columns (total 75 columns):\n",
      " #   Column                                        Non-Null Count  Dtype  \n",
      "---  ------                                        --------------  -----  \n",
      " 0   id                                            947 non-null    int64  \n",
      " 1   listing_url                                   947 non-null    object \n",
      " 2   scrape_id                                     947 non-null    int64  \n",
      " 3   last_scraped                                  947 non-null    object \n",
      " 4   source                                        947 non-null    object \n",
      " 5   name                                          947 non-null    object \n",
      " 6   description                                   947 non-null    object \n",
      " 7   neighborhood_overview                         616 non-null    object \n",
      " 8   picture_url                                   947 non-null    object \n",
      " 9   host_id                                       947 non-null    int64  \n",
      " 10  host_url                                      947 non-null    object \n",
      " 11  host_name                                     946 non-null    object \n",
      " 12  host_since                                    946 non-null    object \n",
      " 13  host_location                                 800 non-null    object \n",
      " 14  host_about                                    556 non-null    object \n",
      " 15  host_response_time                            803 non-null    object \n",
      " 16  host_response_rate                            803 non-null    object \n",
      " 17  host_acceptance_rate                          908 non-null    object \n",
      " 18  host_is_superhost                             947 non-null    object \n",
      " 19  host_thumbnail_url                            946 non-null    object \n",
      " 20  host_picture_url                              946 non-null    object \n",
      " 21  host_neighbourhood                            10 non-null     object \n",
      " 22  host_listings_count                           946 non-null    float64\n",
      " 23  host_total_listings_count                     946 non-null    float64\n",
      " 24  host_verifications                            946 non-null    object \n",
      " 25  host_has_profile_pic                          946 non-null    object \n",
      " 26  host_identity_verified                        946 non-null    object \n",
      " 27  neighbourhood                                 616 non-null    object \n",
      " 28  neighbourhood_cleansed                        947 non-null    object \n",
      " 29  neighbourhood_group_cleansed                  947 non-null    object \n",
      " 30  latitude                                      947 non-null    float64\n",
      " 31  longitude                                     947 non-null    float64\n",
      " 32  property_type                                 947 non-null    object \n",
      " 33  room_type                                     947 non-null    object \n",
      " 34  accommodates                                  947 non-null    int64  \n",
      " 35  bathrooms                                     0 non-null      float64\n",
      " 36  bathrooms_text                                946 non-null    object \n",
      " 37  bedrooms                                      870 non-null    float64\n",
      " 38  beds                                          929 non-null    float64\n",
      " 39  amenities                                     947 non-null    object \n",
      " 40  price                                         947 non-null    object \n",
      " 41  minimum_nights                                947 non-null    int64  \n",
      " 42  maximum_nights                                947 non-null    int64  \n",
      " 43  minimum_minimum_nights                        947 non-null    int64  \n",
      " 44  maximum_minimum_nights                        947 non-null    int64  \n",
      " 45  minimum_maximum_nights                        947 non-null    int64  \n",
      " 46  maximum_maximum_nights                        947 non-null    int64  \n",
      " 47  minimum_nights_avg_ntm                        947 non-null    float64\n",
      " 48  maximum_nights_avg_ntm                        947 non-null    float64\n",
      " 49  calendar_updated                              0 non-null      float64\n",
      " 50  has_availability                              947 non-null    object \n",
      " 51  availability_30                               947 non-null    int64  \n",
      " 52  availability_60                               947 non-null    int64  \n",
      " 53  availability_90                               947 non-null    int64  \n",
      " 54  availability_365                              947 non-null    int64  \n",
      " 55  calendar_last_scraped                         947 non-null    object \n",
      " 56  number_of_reviews                             947 non-null    int64  \n",
      " 57  number_of_reviews_ltm                         947 non-null    int64  \n",
      " 58  number_of_reviews_l30d                        947 non-null    int64  \n",
      " 59  first_review                                  830 non-null    object \n",
      " 60  last_review                                   830 non-null    object \n",
      " 61  review_scores_rating                          830 non-null    float64\n",
      " 62  review_scores_accuracy                        830 non-null    float64\n",
      " 63  review_scores_cleanliness                     830 non-null    float64\n",
      " 64  review_scores_checkin                         830 non-null    float64\n",
      " 65  review_scores_communication                   830 non-null    float64\n",
      " 66  review_scores_location                        830 non-null    float64\n",
      " 67  review_scores_value                           830 non-null    float64\n",
      " 68  license                                       938 non-null    object \n",
      " 69  instant_bookable                              947 non-null    object \n",
      " 70  calculated_host_listings_count                947 non-null    int64  \n",
      " 71  calculated_host_listings_count_entire_homes   947 non-null    int64  \n",
      " 72  calculated_host_listings_count_private_rooms  947 non-null    int64  \n",
      " 73  calculated_host_listings_count_shared_rooms   947 non-null    int64  \n",
      " 74  reviews_per_month                             830 non-null    float64\n",
      "dtypes: float64(18), int64(21), object(36)\n",
      "memory usage: 555.0+ KB\n"
     ]
    }
   ],
   "source": [
    "hague.info()"
   ]
  },
  {
   "cell_type": "markdown",
   "metadata": {},
   "source": [
    "### 3.1 Merging Datasets"
   ]
  },
  {
   "cell_type": "code",
   "execution_count": 66,
   "metadata": {},
   "outputs": [],
   "source": [
    "amsterdam[\"amsterdam\"] = 1\n",
    "rotterdam[\"rotterdam\"] = 1\n",
    "hague[\"hague\"] = 1\n"
   ]
  },
  {
   "cell_type": "code",
   "execution_count": 67,
   "metadata": {},
   "outputs": [],
   "source": [
    "cities = [amsterdam, rotterdam, hague]\n",
    "result = pd.concat(cities)"
   ]
  },
  {
   "cell_type": "code",
   "execution_count": 68,
   "metadata": {},
   "outputs": [
    {
     "data": {
      "text/plain": [
       "calendar_updated                8837\n",
       "bathrooms                       8837\n",
       "rotterdam                       7945\n",
       "hague                           7890\n",
       "neighbourhood_group_cleansed    6998\n",
       "host_neighbourhood              5843\n",
       "host_about                      3701\n",
       "neighborhood_overview           3237\n",
       "neighbourhood                   3237\n",
       "host_response_time              2331\n",
       "host_response_rate              2331\n",
       "amsterdam                       1839\n",
       "host_location                   1128\n",
       "host_acceptance_rate            1083\n",
       "review_scores_cleanliness        930\n",
       "review_scores_accuracy           930\n",
       "review_scores_checkin            930\n",
       "review_scores_communication      930\n",
       "review_scores_location           930\n",
       "review_scores_value              930\n",
       "review_scores_rating             924\n",
       "last_review                      924\n",
       "first_review                     924\n",
       "reviews_per_month                924\n",
       "bedrooms                         397\n",
       "beds                             114\n",
       "license                           57\n",
       "bathrooms_text                    15\n",
       "description                        7\n",
       "host_is_superhost                  4\n",
       "host_has_profile_pic               1\n",
       "host_verifications                 1\n",
       "host_total_listings_count          1\n",
       "host_listings_count                1\n",
       "host_picture_url                   1\n",
       "host_thumbnail_url                 1\n",
       "host_since                         1\n",
       "host_name                          1\n",
       "host_identity_verified             1\n",
       "dtype: int64"
      ]
     },
     "execution_count": 68,
     "metadata": {},
     "output_type": "execute_result"
    }
   ],
   "source": [
    "missings = result.isna().sum().sort_values(ascending=False)\n",
    "missings = missings[missings > 0]\n",
    "missings\n",
    "\n"
   ]
  },
  {
   "cell_type": "code",
   "execution_count": 69,
   "metadata": {},
   "outputs": [],
   "source": [
    "result[[\"amsterdam\", \"rotterdam\", \"hague\"]] = result[[\"amsterdam\", \"rotterdam\", \"hague\"]].fillna(0)\n"
   ]
  },
  {
   "cell_type": "code",
   "execution_count": 70,
   "metadata": {},
   "outputs": [
    {
     "data": {
      "text/plain": [
       "Index(['id', 'listing_url', 'scrape_id', 'last_scraped', 'source', 'name',\n",
       "       'description', 'neighborhood_overview', 'picture_url', 'host_id',\n",
       "       'host_url', 'host_name', 'host_since', 'host_location', 'host_about',\n",
       "       'host_response_time', 'host_response_rate', 'host_acceptance_rate',\n",
       "       'host_is_superhost', 'host_thumbnail_url', 'host_picture_url',\n",
       "       'host_neighbourhood', 'host_listings_count',\n",
       "       'host_total_listings_count', 'host_verifications',\n",
       "       'host_has_profile_pic', 'host_identity_verified', 'neighbourhood',\n",
       "       'neighbourhood_cleansed', 'neighbourhood_group_cleansed', 'latitude',\n",
       "       'longitude', 'property_type', 'room_type', 'accommodates', 'bathrooms',\n",
       "       'bathrooms_text', 'bedrooms', 'beds', 'amenities', 'price',\n",
       "       'minimum_nights', 'maximum_nights', 'minimum_minimum_nights',\n",
       "       'maximum_minimum_nights', 'minimum_maximum_nights',\n",
       "       'maximum_maximum_nights', 'minimum_nights_avg_ntm',\n",
       "       'maximum_nights_avg_ntm', 'calendar_updated', 'has_availability',\n",
       "       'availability_30', 'availability_60', 'availability_90',\n",
       "       'availability_365', 'calendar_last_scraped', 'number_of_reviews',\n",
       "       'number_of_reviews_ltm', 'number_of_reviews_l30d', 'first_review',\n",
       "       'last_review', 'review_scores_rating', 'review_scores_accuracy',\n",
       "       'review_scores_cleanliness', 'review_scores_checkin',\n",
       "       'review_scores_communication', 'review_scores_location',\n",
       "       'review_scores_value', 'license', 'instant_bookable',\n",
       "       'calculated_host_listings_count',\n",
       "       'calculated_host_listings_count_entire_homes',\n",
       "       'calculated_host_listings_count_private_rooms',\n",
       "       'calculated_host_listings_count_shared_rooms', 'reviews_per_month',\n",
       "       'amsterdam', 'rotterdam', 'hague'],\n",
       "      dtype='object')"
      ]
     },
     "execution_count": 70,
     "metadata": {},
     "output_type": "execute_result"
    }
   ],
   "source": [
    "result.columns"
   ]
  },
  {
   "cell_type": "markdown",
   "metadata": {},
   "source": [
    "### 3.2 Removing columns "
   ]
  },
  {
   "cell_type": "code",
   "execution_count": 71,
   "metadata": {},
   "outputs": [],
   "source": [
    "final_columns = ['room_type', 'accommodates','bedrooms', 'beds', \n",
    "                 'price', 'amsterdam', 'rotterdam', 'hague', 'number_of_reviews',\n",
    "                  'host_listings_count', 'latitude', 'longitude']\n",
    "\n",
    "result = result[final_columns]"
   ]
  },
  {
   "cell_type": "code",
   "execution_count": 72,
   "metadata": {},
   "outputs": [
    {
     "data": {
      "text/html": [
       "<div>\n",
       "<style scoped>\n",
       "    .dataframe tbody tr th:only-of-type {\n",
       "        vertical-align: middle;\n",
       "    }\n",
       "\n",
       "    .dataframe tbody tr th {\n",
       "        vertical-align: top;\n",
       "    }\n",
       "\n",
       "    .dataframe thead th {\n",
       "        text-align: right;\n",
       "    }\n",
       "</style>\n",
       "<table border=\"1\" class=\"dataframe\">\n",
       "  <thead>\n",
       "    <tr style=\"text-align: right;\">\n",
       "      <th></th>\n",
       "      <th>room_type</th>\n",
       "      <th>accommodates</th>\n",
       "      <th>bedrooms</th>\n",
       "      <th>beds</th>\n",
       "      <th>price</th>\n",
       "      <th>amsterdam</th>\n",
       "      <th>rotterdam</th>\n",
       "      <th>hague</th>\n",
       "      <th>number_of_reviews</th>\n",
       "      <th>host_listings_count</th>\n",
       "      <th>latitude</th>\n",
       "      <th>longitude</th>\n",
       "    </tr>\n",
       "  </thead>\n",
       "  <tbody>\n",
       "    <tr>\n",
       "      <th>0</th>\n",
       "      <td>Private room</td>\n",
       "      <td>2</td>\n",
       "      <td>1.0</td>\n",
       "      <td>2.0</td>\n",
       "      <td>$69.00</td>\n",
       "      <td>1.0</td>\n",
       "      <td>0.0</td>\n",
       "      <td>0.0</td>\n",
       "      <td>322</td>\n",
       "      <td>1.0</td>\n",
       "      <td>52.36435</td>\n",
       "      <td>4.94358</td>\n",
       "    </tr>\n",
       "    <tr>\n",
       "      <th>1</th>\n",
       "      <td>Entire home/apt</td>\n",
       "      <td>2</td>\n",
       "      <td>1.0</td>\n",
       "      <td>1.0</td>\n",
       "      <td>$325.00</td>\n",
       "      <td>1.0</td>\n",
       "      <td>0.0</td>\n",
       "      <td>0.0</td>\n",
       "      <td>87</td>\n",
       "      <td>1.0</td>\n",
       "      <td>52.37104</td>\n",
       "      <td>4.87713</td>\n",
       "    </tr>\n",
       "  </tbody>\n",
       "</table>\n",
       "</div>"
      ],
      "text/plain": [
       "         room_type  accommodates  bedrooms  beds    price  amsterdam  \\\n",
       "0     Private room             2       1.0   2.0   $69.00        1.0   \n",
       "1  Entire home/apt             2       1.0   1.0  $325.00        1.0   \n",
       "\n",
       "   rotterdam  hague  number_of_reviews  host_listings_count  latitude  \\\n",
       "0        0.0    0.0                322                  1.0  52.36435   \n",
       "1        0.0    0.0                 87                  1.0  52.37104   \n",
       "\n",
       "   longitude  \n",
       "0    4.94358  \n",
       "1    4.87713  "
      ]
     },
     "execution_count": 72,
     "metadata": {},
     "output_type": "execute_result"
    }
   ],
   "source": [
    "result.head(2)"
   ]
  },
  {
   "cell_type": "code",
   "execution_count": 73,
   "metadata": {},
   "outputs": [],
   "source": [
    "result[\"price\"] = result[\"price\"].str.replace(\"$\", \"\")\n",
    "result[\"price\"] = result[\"price\"].str.replace(\",\", \"\")\n",
    "result[\"price\"] = result[\"price\"].astype(float)"
   ]
  },
  {
   "cell_type": "markdown",
   "metadata": {},
   "source": [
    "### 3.3 Creating dummy variables"
   ]
  },
  {
   "cell_type": "markdown",
   "metadata": {},
   "source": [
    "One-hot encoding"
   ]
  },
  {
   "cell_type": "code",
   "execution_count": 74,
   "metadata": {},
   "outputs": [],
   "source": [
    "result = pd.get_dummies(result, columns= ['room_type'], drop_first=True, dtype='int64')"
   ]
  },
  {
   "cell_type": "code",
   "execution_count": 75,
   "metadata": {},
   "outputs": [
    {
     "data": {
      "text/html": [
       "<div>\n",
       "<style scoped>\n",
       "    .dataframe tbody tr th:only-of-type {\n",
       "        vertical-align: middle;\n",
       "    }\n",
       "\n",
       "    .dataframe tbody tr th {\n",
       "        vertical-align: top;\n",
       "    }\n",
       "\n",
       "    .dataframe thead th {\n",
       "        text-align: right;\n",
       "    }\n",
       "</style>\n",
       "<table border=\"1\" class=\"dataframe\">\n",
       "  <thead>\n",
       "    <tr style=\"text-align: right;\">\n",
       "      <th></th>\n",
       "      <th>accommodates</th>\n",
       "      <th>bedrooms</th>\n",
       "      <th>beds</th>\n",
       "      <th>price</th>\n",
       "      <th>amsterdam</th>\n",
       "      <th>rotterdam</th>\n",
       "      <th>hague</th>\n",
       "      <th>number_of_reviews</th>\n",
       "      <th>host_listings_count</th>\n",
       "      <th>latitude</th>\n",
       "      <th>longitude</th>\n",
       "      <th>room_type_Hotel room</th>\n",
       "      <th>room_type_Private room</th>\n",
       "      <th>room_type_Shared room</th>\n",
       "    </tr>\n",
       "  </thead>\n",
       "  <tbody>\n",
       "    <tr>\n",
       "      <th>0</th>\n",
       "      <td>2</td>\n",
       "      <td>1.0</td>\n",
       "      <td>2.0</td>\n",
       "      <td>69.0</td>\n",
       "      <td>1.0</td>\n",
       "      <td>0.0</td>\n",
       "      <td>0.0</td>\n",
       "      <td>322</td>\n",
       "      <td>1.0</td>\n",
       "      <td>52.36435</td>\n",
       "      <td>4.94358</td>\n",
       "      <td>0</td>\n",
       "      <td>1</td>\n",
       "      <td>0</td>\n",
       "    </tr>\n",
       "    <tr>\n",
       "      <th>1</th>\n",
       "      <td>2</td>\n",
       "      <td>1.0</td>\n",
       "      <td>1.0</td>\n",
       "      <td>325.0</td>\n",
       "      <td>1.0</td>\n",
       "      <td>0.0</td>\n",
       "      <td>0.0</td>\n",
       "      <td>87</td>\n",
       "      <td>1.0</td>\n",
       "      <td>52.37104</td>\n",
       "      <td>4.87713</td>\n",
       "      <td>0</td>\n",
       "      <td>0</td>\n",
       "      <td>0</td>\n",
       "    </tr>\n",
       "  </tbody>\n",
       "</table>\n",
       "</div>"
      ],
      "text/plain": [
       "   accommodates  bedrooms  beds  price  amsterdam  rotterdam  hague  \\\n",
       "0             2       1.0   2.0   69.0        1.0        0.0    0.0   \n",
       "1             2       1.0   1.0  325.0        1.0        0.0    0.0   \n",
       "\n",
       "   number_of_reviews  host_listings_count  latitude  longitude  \\\n",
       "0                322                  1.0  52.36435    4.94358   \n",
       "1                 87                  1.0  52.37104    4.87713   \n",
       "\n",
       "   room_type_Hotel room  room_type_Private room  room_type_Shared room  \n",
       "0                     0                       1                      0  \n",
       "1                     0                       0                      0  "
      ]
     },
     "execution_count": 75,
     "metadata": {},
     "output_type": "execute_result"
    }
   ],
   "source": [
    "result.head(2)"
   ]
  },
  {
   "cell_type": "code",
   "execution_count": 76,
   "metadata": {},
   "outputs": [
    {
     "name": "stdout",
     "output_type": "stream",
     "text": [
      "<class 'pandas.core.frame.DataFrame'>\n",
      "Index: 8837 entries, 0 to 946\n",
      "Data columns (total 14 columns):\n",
      " #   Column                  Non-Null Count  Dtype  \n",
      "---  ------                  --------------  -----  \n",
      " 0   accommodates            8837 non-null   int64  \n",
      " 1   bedrooms                8440 non-null   float64\n",
      " 2   beds                    8723 non-null   float64\n",
      " 3   price                   8837 non-null   float64\n",
      " 4   amsterdam               8837 non-null   float64\n",
      " 5   rotterdam               8837 non-null   float64\n",
      " 6   hague                   8837 non-null   float64\n",
      " 7   number_of_reviews       8837 non-null   int64  \n",
      " 8   host_listings_count     8836 non-null   float64\n",
      " 9   latitude                8837 non-null   float64\n",
      " 10  longitude               8837 non-null   float64\n",
      " 11  room_type_Hotel room    8837 non-null   int64  \n",
      " 12  room_type_Private room  8837 non-null   int64  \n",
      " 13  room_type_Shared room   8837 non-null   int64  \n",
      "dtypes: float64(9), int64(5)\n",
      "memory usage: 1.0 MB\n"
     ]
    }
   ],
   "source": [
    "result.info()"
   ]
  },
  {
   "cell_type": "markdown",
   "metadata": {},
   "source": [
    "Changing price to float"
   ]
  },
  {
   "cell_type": "markdown",
   "metadata": {},
   "source": [
    "Check missing values "
   ]
  },
  {
   "cell_type": "code",
   "execution_count": 77,
   "metadata": {},
   "outputs": [
    {
     "data": {
      "text/plain": [
       "accommodates                0\n",
       "bedrooms                  397\n",
       "beds                      114\n",
       "price                       0\n",
       "amsterdam                   0\n",
       "rotterdam                   0\n",
       "hague                       0\n",
       "number_of_reviews           0\n",
       "host_listings_count         1\n",
       "latitude                    0\n",
       "longitude                   0\n",
       "room_type_Hotel room        0\n",
       "room_type_Private room      0\n",
       "room_type_Shared room       0\n",
       "dtype: int64"
      ]
     },
     "execution_count": 77,
     "metadata": {},
     "output_type": "execute_result"
    }
   ],
   "source": [
    "result.isna().sum()"
   ]
  },
  {
   "cell_type": "code",
   "execution_count": 78,
   "metadata": {},
   "outputs": [
    {
     "data": {
      "text/plain": [
       "bedrooms\n",
       "1.0     5122\n",
       "2.0     2091\n",
       "3.0      849\n",
       "4.0      294\n",
       "5.0       50\n",
       "10.0       9\n",
       "8.0        9\n",
       "6.0        9\n",
       "7.0        5\n",
       "17.0       1\n",
       "23.0       1\n",
       "Name: count, dtype: int64"
      ]
     },
     "execution_count": 78,
     "metadata": {},
     "output_type": "execute_result"
    }
   ],
   "source": [
    "result[\"bedrooms\"].value_counts()"
   ]
  },
  {
   "cell_type": "markdown",
   "metadata": {},
   "source": [
    "Drop missing values as there is only small percentage of missing values"
   ]
  },
  {
   "cell_type": "code",
   "execution_count": 79,
   "metadata": {},
   "outputs": [],
   "source": [
    "result.dropna(inplace=True)"
   ]
  },
  {
   "cell_type": "markdown",
   "metadata": {},
   "source": [
    "### 4. EDA"
   ]
  },
  {
   "cell_type": "markdown",
   "metadata": {},
   "source": [
    "First lets check the average price for each room type"
   ]
  },
  {
   "cell_type": "markdown",
   "metadata": {},
   "source": [
    "Now lets plot price vs number of reviews"
   ]
  },
  {
   "cell_type": "code",
   "execution_count": null,
   "metadata": {},
   "outputs": [],
   "source": []
  },
  {
   "cell_type": "markdown",
   "metadata": {},
   "source": [
    "Lets create a heatmap of correlation with price"
   ]
  },
  {
   "cell_type": "code",
   "execution_count": 80,
   "metadata": {},
   "outputs": [
    {
     "data": {
      "text/plain": [
       "<Axes: >"
      ]
     },
     "execution_count": 80,
     "metadata": {},
     "output_type": "execute_result"
    },
    {
     "data": {
      "image/png": "[encoded data removed]",
      "text/plain": [
       "<Figure size 640x480 with 2 Axes>"
      ]
     },
     "metadata": {},
     "output_type": "display_data"
    }
   ],
   "source": [
    "sns.heatmap(result.corr(), annot=True)"
   ]
  },
  {
   "cell_type": "markdown",
   "metadata": {},
   "source": [
    "Before modelling lets drop bedrooms and beds are they are highly correlated"
   ]
  },
  {
   "cell_type": "code",
   "execution_count": 81,
   "metadata": {},
   "outputs": [],
   "source": [
    "result.drop(columns=['beds', 'bedrooms'], inplace=True)"
   ]
  },
  {
   "cell_type": "markdown",
   "metadata": {},
   "source": [
    "### 5. Models"
   ]
  },
  {
   "cell_type": "markdown",
   "metadata": {},
   "source": [
    "### 5.1 Spliting into training and testing sets"
   ]
  },
  {
   "cell_type": "code",
   "execution_count": 82,
   "metadata": {},
   "outputs": [],
   "source": [
    "final_columns = ['accommodates', \n",
    "                'amsterdam', 'rotterdam', 'hague', 'number_of_reviews',\n",
    "                  'host_listings_count', 'latitude', 'longitude']"
   ]
  },
  {
   "cell_type": "code",
   "execution_count": 83,
   "metadata": {},
   "outputs": [],
   "source": [
    "X = result.loc[: , final_columns]\n",
    "y = result.loc[:,  [\"price\"]]"
   ]
  },
  {
   "cell_type": "code",
   "execution_count": 84,
   "metadata": {},
   "outputs": [],
   "source": [
    "X_train, X_test, y_train, y_test = train_test_split(X,y, test_size=0.2, random_state=42)"
   ]
  },
  {
   "cell_type": "markdown",
   "metadata": {},
   "source": [
    "### 5.2 Scaling data\n",
    "Scaling of data should happen after splitting the data into train and test sets. The purpose of that is to avoid data leakage."
   ]
  },
  {
   "cell_type": "code",
   "execution_count": 85,
   "metadata": {},
   "outputs": [],
   "source": [
    "scale = StandardScaler()\n",
    "scaled_X_train = scale.fit_transform(X_train)\n",
    "scaled_X_test = scale.fit_transform(X_test)"
   ]
  },
  {
   "cell_type": "markdown",
   "metadata": {},
   "source": [
    "### 5.3 Training the model"
   ]
  },
  {
   "cell_type": "markdown",
   "metadata": {},
   "source": [
    "For this project we will compare the performance of 3 different regression models:\n",
    " - Linear Regression\n",
    " - Decision Tree\n",
    " - XG Boost"
   ]
  },
  {
   "cell_type": "markdown",
   "metadata": {},
   "source": [
    "### 5.3.1 Linear Regression"
   ]
  },
  {
   "cell_type": "code",
   "execution_count": 86,
   "metadata": {},
   "outputs": [
    {
     "data": {
      "text/plain": [
       "array([[ 4.30420329e+01,  1.72399919e+02, -1.07141012e+02,\n",
       "        -6.52589068e+01, -2.18335320e-01,  2.05147705e-02,\n",
       "        -3.55665379e+02, -8.58030607e+01]])"
      ]
     },
     "execution_count": 86,
     "metadata": {},
     "output_type": "execute_result"
    }
   ],
   "source": [
    "reg = LinearRegression()\n",
    "reg.fit(X_train, y_train)\n",
    "reg.score(X_test, y_test)\n",
    "reg.coef_"
   ]
  },
  {
   "cell_type": "code",
   "execution_count": 87,
   "metadata": {},
   "outputs": [
    {
     "name": "stdout",
     "output_type": "stream",
     "text": [
      "(1670, 8)\n",
      "(1670, 1)\n"
     ]
    }
   ],
   "source": [
    "print(X_test.shape)\n",
    "print(y_test.shape)\n"
   ]
  },
  {
   "cell_type": "code",
   "execution_count": 88,
   "metadata": {},
   "outputs": [],
   "source": [
    "y_pred_LOGREG = reg.predict(X_test)"
   ]
  },
  {
   "cell_type": "markdown",
   "metadata": {},
   "source": [
    "### 5.3.2 Decision Tree"
   ]
  },
  {
   "cell_type": "code",
   "execution_count": 89,
   "metadata": {},
   "outputs": [
    {
     "data": {
      "text/html": [
       "<style>#sk-container-id-1 {\n",
       "  /* Definition of color scheme common for light and dark mode */\n",
       "  --sklearn-color-text: black;\n",
       "  --sklearn-color-line: gray;\n",
       "  /* Definition of color scheme for unfitted estimators */\n",
       "  --sklearn-color-unfitted-level-0: #fff5e6;\n",
       "  --sklearn-color-unfitted-level-1: #f6e4d2;\n",
       "  --sklearn-color-unfitted-level-2: #ffe0b3;\n",
       "  --sklearn-color-unfitted-level-3: chocolate;\n",
       "  /* Definition of color scheme for fitted estimators */\n",
       "  --sklearn-color-fitted-level-0: #f0f8ff;\n",
       "  --sklearn-color-fitted-level-1: #d4ebff;\n",
       "  --sklearn-color-fitted-level-2: #b3dbfd;\n",
       "  --sklearn-color-fitted-level-3: cornflowerblue;\n",
       "\n",
       "  /* Specific color for light theme */\n",
       "  --sklearn-color-text-on-default-background: var(--sg-text-color, var(--theme-code-foreground, var(--jp-content-font-color1, black)));\n",
       "  --sklearn-color-background: var(--sg-background-color, var(--theme-background, var(--jp-layout-color0, white)));\n",
       "  --sklearn-color-border-box: var(--sg-text-color, var(--theme-code-foreground, var(--jp-content-font-color1, black)));\n",
       "  --sklearn-color-icon: #696969;\n",
       "\n",
       "  @media (prefers-color-scheme: dark) {\n",
       "    /* Redefinition of color scheme for dark theme */\n",
       "    --sklearn-color-text-on-default-background: var(--sg-text-color, var(--theme-code-foreground, var(--jp-content-font-color1, white)));\n",
       "    --sklearn-color-background: var(--sg-background-color, var(--theme-background, var(--jp-layout-color0, #111)));\n",
       "    --sklearn-color-border-box: var(--sg-text-color, var(--theme-code-foreground, var(--jp-content-font-color1, white)));\n",
       "    --sklearn-color-icon: #878787;\n",
       "  }\n",
       "}\n",
       "\n",
       "#sk-container-id-1 {\n",
       "  color: var(--sklearn-color-text);\n",
       "}\n",
       "\n",
       "#sk-container-id-1 pre {\n",
       "  padding: 0;\n",
       "}\n",
       "\n",
       "#sk-container-id-1 input.sk-hidden--visually {\n",
       "  border: 0;\n",
       "  clip: rect(1px 1px 1px 1px);\n",
       "  clip: rect(1px, 1px, 1px, 1px);\n",
       "  height: 1px;\n",
       "  margin: -1px;\n",
       "  overflow: hidden;\n",
       "  padding: 0;\n",
       "  position: absolute;\n",
       "  width: 1px;\n",
       "}\n",
       "\n",
       "#sk-container-id-1 div.sk-dashed-wrapped {\n",
       "  border: 1px dashed var(--sklearn-color-line);\n",
       "  margin: 0 0.4em 0.5em 0.4em;\n",
       "  box-sizing: border-box;\n",
       "  padding-bottom: 0.4em;\n",
       "  background-color: var(--sklearn-color-background);\n",
       "}\n",
       "\n",
       "#sk-container-id-1 div.sk-container {\n",
       "  /* jupyter's `normalize.less` sets `[hidden] { display: none; }`\n",
       "     but bootstrap.min.css set `[hidden] { display: none !important; }`\n",
       "     so we also need the `!important` here to be able to override the\n",
       "     default hidden behavior on the sphinx rendered scikit-learn.org.\n",
       "     See: https://github.com/scikit-learn/scikit-learn/issues/21755 */\n",
       "  display: inline-block !important;\n",
       "  position: relative;\n",
       "}\n",
       "\n",
       "#sk-container-id-1 div.sk-text-repr-fallback {\n",
       "  display: none;\n",
       "}\n",
       "\n",
       "div.sk-parallel-item,\n",
       "div.sk-serial,\n",
       "div.sk-item {\n",
       "  /* draw centered vertical line to link estimators */\n",
       "  background-image: linear-gradient(var(--sklearn-color-text-on-default-background), var(--sklearn-color-text-on-default-background));\n",
       "  background-size: 2px 100%;\n",
       "  background-repeat: no-repeat;\n",
       "  background-position: center center;\n",
       "}\n",
       "\n",
       "/* Parallel-specific style estimator block */\n",
       "\n",
       "#sk-container-id-1 div.sk-parallel-item::after {\n",
       "  content: \"\";\n",
       "  width: 100%;\n",
       "  border-bottom: 2px solid var(--sklearn-color-text-on-default-background);\n",
       "  flex-grow: 1;\n",
       "}\n",
       "\n",
       "#sk-container-id-1 div.sk-parallel {\n",
       "  display: flex;\n",
       "  align-items: stretch;\n",
       "  justify-content: center;\n",
       "  background-color: var(--sklearn-color-background);\n",
       "  position: relative;\n",
       "}\n",
       "\n",
       "#sk-container-id-1 div.sk-parallel-item {\n",
       "  display: flex;\n",
       "  flex-direction: column;\n",
       "}\n",
       "\n",
       "#sk-container-id-1 div.sk-parallel-item:first-child::after {\n",
       "  align-self: flex-end;\n",
       "  width: 50%;\n",
       "}\n",
       "\n",
       "#sk-container-id-1 div.sk-parallel-item:last-child::after {\n",
       "  align-self: flex-start;\n",
       "  width: 50%;\n",
       "}\n",
       "\n",
       "#sk-container-id-1 div.sk-parallel-item:only-child::after {\n",
       "  width: 0;\n",
       "}\n",
       "\n",
       "/* Serial-specific style estimator block */\n",
       "\n",
       "#sk-container-id-1 div.sk-serial {\n",
       "  display: flex;\n",
       "  flex-direction: column;\n",
       "  align-items: center;\n",
       "  background-color: var(--sklearn-color-background);\n",
       "  padding-right: 1em;\n",
       "  padding-left: 1em;\n",
       "}\n",
       "\n",
       "\n",
       "/* Toggleable style: style used for estimator/Pipeline/ColumnTransformer box that is\n",
       "clickable and can be expanded/collapsed.\n",
       "- Pipeline and ColumnTransformer use this feature and define the default style\n",
       "- Estimators will overwrite some part of the style using the `sk-estimator` class\n",
       "*/\n",
       "\n",
       "/* Pipeline and ColumnTransformer style (default) */\n",
       "\n",
       "#sk-container-id-1 div.sk-toggleable {\n",
       "  /* Default theme specific background. It is overwritten whether we have a\n",
       "  specific estimator or a Pipeline/ColumnTransformer */\n",
       "  background-color: var(--sklearn-color-background);\n",
       "}\n",
       "\n",
       "/* Toggleable label */\n",
       "#sk-container-id-1 label.sk-toggleable__label {\n",
       "  cursor: pointer;\n",
       "  display: block;\n",
       "  width: 100%;\n",
       "  margin-bottom: 0;\n",
       "  padding: 0.5em;\n",
       "  box-sizing: border-box;\n",
       "  text-align: center;\n",
       "}\n",
       "\n",
       "#sk-container-id-1 label.sk-toggleable__label-arrow:before {\n",
       "  /* Arrow on the left of the label */\n",
       "  content: \"▸\";\n",
       "  float: left;\n",
       "  margin-right: 0.25em;\n",
       "  color: var(--sklearn-color-icon);\n",
       "}\n",
       "\n",
       "#sk-container-id-1 label.sk-toggleable__label-arrow:hover:before {\n",
       "  color: var(--sklearn-color-text);\n",
       "}\n",
       "\n",
       "/* Toggleable content - dropdown */\n",
       "\n",
       "#sk-container-id-1 div.sk-toggleable__content {\n",
       "  max-height: 0;\n",
       "  max-width: 0;\n",
       "  overflow: hidden;\n",
       "  text-align: left;\n",
       "  /* unfitted */\n",
       "  background-color: var(--sklearn-color-unfitted-level-0);\n",
       "}\n",
       "\n",
       "#sk-container-id-1 div.sk-toggleable__content.fitted {\n",
       "  /* fitted */\n",
       "  background-color: var(--sklearn-color-fitted-level-0);\n",
       "}\n",
       "\n",
       "#sk-container-id-1 div.sk-toggleable__content pre {\n",
       "  margin: 0.2em;\n",
       "  border-radius: 0.25em;\n",
       "  color: var(--sklearn-color-text);\n",
       "  /* unfitted */\n",
       "  background-color: var(--sklearn-color-unfitted-level-0);\n",
       "}\n",
       "\n",
       "#sk-container-id-1 div.sk-toggleable__content.fitted pre {\n",
       "  /* unfitted */\n",
       "  background-color: var(--sklearn-color-fitted-level-0);\n",
       "}\n",
       "\n",
       "#sk-container-id-1 input.sk-toggleable__control:checked~div.sk-toggleable__content {\n",
       "  /* Expand drop-down */\n",
       "  max-height: 200px;\n",
       "  max-width: 100%;\n",
       "  overflow: auto;\n",
       "}\n",
       "\n",
       "#sk-container-id-1 input.sk-toggleable__control:checked~label.sk-toggleable__label-arrow:before {\n",
       "  content: \"▾\";\n",
       "}\n",
       "\n",
       "/* Pipeline/ColumnTransformer-specific style */\n",
       "\n",
       "#sk-container-id-1 div.sk-label input.sk-toggleable__control:checked~label.sk-toggleable__label {\n",
       "  color: var(--sklearn-color-text);\n",
       "  background-color: var(--sklearn-color-unfitted-level-2);\n",
       "}\n",
       "\n",
       "#sk-container-id-1 div.sk-label.fitted input.sk-toggleable__control:checked~label.sk-toggleable__label {\n",
       "  background-color: var(--sklearn-color-fitted-level-2);\n",
       "}\n",
       "\n",
       "/* Estimator-specific style */\n",
       "\n",
       "/* Colorize estimator box */\n",
       "#sk-container-id-1 div.sk-estimator input.sk-toggleable__control:checked~label.sk-toggleable__label {\n",
       "  /* unfitted */\n",
       "  background-color: var(--sklearn-color-unfitted-level-2);\n",
       "}\n",
       "\n",
       "#sk-container-id-1 div.sk-estimator.fitted input.sk-toggleable__control:checked~label.sk-toggleable__label {\n",
       "  /* fitted */\n",
       "  background-color: var(--sklearn-color-fitted-level-2);\n",
       "}\n",
       "\n",
       "#sk-container-id-1 div.sk-label label.sk-toggleable__label,\n",
       "#sk-container-id-1 div.sk-label label {\n",
       "  /* The background is the default theme color */\n",
       "  color: var(--sklearn-color-text-on-default-background);\n",
       "}\n",
       "\n",
       "/* On hover, darken the color of the background */\n",
       "#sk-container-id-1 div.sk-label:hover label.sk-toggleable__label {\n",
       "  color: var(--sklearn-color-text);\n",
       "  background-color: var(--sklearn-color-unfitted-level-2);\n",
       "}\n",
       "\n",
       "/* Label box, darken color on hover, fitted */\n",
       "#sk-container-id-1 div.sk-label.fitted:hover label.sk-toggleable__label.fitted {\n",
       "  color: var(--sklearn-color-text);\n",
       "  background-color: var(--sklearn-color-fitted-level-2);\n",
       "}\n",
       "\n",
       "/* Estimator label */\n",
       "\n",
       "#sk-container-id-1 div.sk-label label {\n",
       "  font-family: monospace;\n",
       "  font-weight: bold;\n",
       "  display: inline-block;\n",
       "  line-height: 1.2em;\n",
       "}\n",
       "\n",
       "#sk-container-id-1 div.sk-label-container {\n",
       "  text-align: center;\n",
       "}\n",
       "\n",
       "/* Estimator-specific */\n",
       "#sk-container-id-1 div.sk-estimator {\n",
       "  font-family: monospace;\n",
       "  border: 1px dotted var(--sklearn-color-border-box);\n",
       "  border-radius: 0.25em;\n",
       "  box-sizing: border-box;\n",
       "  margin-bottom: 0.5em;\n",
       "  /* unfitted */\n",
       "  background-color: var(--sklearn-color-unfitted-level-0);\n",
       "}\n",
       "\n",
       "#sk-container-id-1 div.sk-estimator.fitted {\n",
       "  /* fitted */\n",
       "  background-color: var(--sklearn-color-fitted-level-0);\n",
       "}\n",
       "\n",
       "/* on hover */\n",
       "#sk-container-id-1 div.sk-estimator:hover {\n",
       "  /* unfitted */\n",
       "  background-color: var(--sklearn-color-unfitted-level-2);\n",
       "}\n",
       "\n",
       "#sk-container-id-1 div.sk-estimator.fitted:hover {\n",
       "  /* fitted */\n",
       "  background-color: var(--sklearn-color-fitted-level-2);\n",
       "}\n",
       "\n",
       "/* Specification for estimator info (e.g. \"i\" and \"?\") */\n",
       "\n",
       "/* Common style for \"i\" and \"?\" */\n",
       "\n",
       ".sk-estimator-doc-link,\n",
       "a:link.sk-estimator-doc-link,\n",
       "a:visited.sk-estimator-doc-link {\n",
       "  float: right;\n",
       "  font-size: smaller;\n",
       "  line-height: 1em;\n",
       "  font-family: monospace;\n",
       "  background-color: var(--sklearn-color-background);\n",
       "  border-radius: 1em;\n",
       "  height: 1em;\n",
       "  width: 1em;\n",
       "  text-decoration: none !important;\n",
       "  margin-left: 1ex;\n",
       "  /* unfitted */\n",
       "  border: var(--sklearn-color-unfitted-level-1) 1pt solid;\n",
       "  color: var(--sklearn-color-unfitted-level-1);\n",
       "}\n",
       "\n",
       ".sk-estimator-doc-link.fitted,\n",
       "a:link.sk-estimator-doc-link.fitted,\n",
       "a:visited.sk-estimator-doc-link.fitted {\n",
       "  /* fitted */\n",
       "  border: var(--sklearn-color-fitted-level-1) 1pt solid;\n",
       "  color: var(--sklearn-color-fitted-level-1);\n",
       "}\n",
       "\n",
       "/* On hover */\n",
       "div.sk-estimator:hover .sk-estimator-doc-link:hover,\n",
       ".sk-estimator-doc-link:hover,\n",
       "div.sk-label-container:hover .sk-estimator-doc-link:hover,\n",
       ".sk-estimator-doc-link:hover {\n",
       "  /* unfitted */\n",
       "  background-color: var(--sklearn-color-unfitted-level-3);\n",
       "  color: var(--sklearn-color-background);\n",
       "  text-decoration: none;\n",
       "}\n",
       "\n",
       "div.sk-estimator.fitted:hover .sk-estimator-doc-link.fitted:hover,\n",
       ".sk-estimator-doc-link.fitted:hover,\n",
       "div.sk-label-container:hover .sk-estimator-doc-link.fitted:hover,\n",
       ".sk-estimator-doc-link.fitted:hover {\n",
       "  /* fitted */\n",
       "  background-color: var(--sklearn-color-fitted-level-3);\n",
       "  color: var(--sklearn-color-background);\n",
       "  text-decoration: none;\n",
       "}\n",
       "\n",
       "/* Span, style for the box shown on hovering the info icon */\n",
       ".sk-estimator-doc-link span {\n",
       "  display: none;\n",
       "  z-index: 9999;\n",
       "  position: relative;\n",
       "  font-weight: normal;\n",
       "  right: .2ex;\n",
       "  padding: .5ex;\n",
       "  margin: .5ex;\n",
       "  width: min-content;\n",
       "  min-width: 20ex;\n",
       "  max-width: 50ex;\n",
       "  color: var(--sklearn-color-text);\n",
       "  box-shadow: 2pt 2pt 4pt #999;\n",
       "  /* unfitted */\n",
       "  background: var(--sklearn-color-unfitted-level-0);\n",
       "  border: .5pt solid var(--sklearn-color-unfitted-level-3);\n",
       "}\n",
       "\n",
       ".sk-estimator-doc-link.fitted span {\n",
       "  /* fitted */\n",
       "  background: var(--sklearn-color-fitted-level-0);\n",
       "  border: var(--sklearn-color-fitted-level-3);\n",
       "}\n",
       "\n",
       ".sk-estimator-doc-link:hover span {\n",
       "  display: block;\n",
       "}\n",
       "\n",
       "/* \"?\"-specific style due to the `<a>` HTML tag */\n",
       "\n",
       "#sk-container-id-1 a.estimator_doc_link {\n",
       "  float: right;\n",
       "  font-size: 1rem;\n",
       "  line-height: 1em;\n",
       "  font-family: monospace;\n",
       "  background-color: var(--sklearn-color-background);\n",
       "  border-radius: 1rem;\n",
       "  height: 1rem;\n",
       "  width: 1rem;\n",
       "  text-decoration: none;\n",
       "  /* unfitted */\n",
       "  color: var(--sklearn-color-unfitted-level-1);\n",
       "  border: var(--sklearn-color-unfitted-level-1) 1pt solid;\n",
       "}\n",
       "\n",
       "#sk-container-id-1 a.estimator_doc_link.fitted {\n",
       "  /* fitted */\n",
       "  border: var(--sklearn-color-fitted-level-1) 1pt solid;\n",
       "  color: var(--sklearn-color-fitted-level-1);\n",
       "}\n",
       "\n",
       "/* On hover */\n",
       "#sk-container-id-1 a.estimator_doc_link:hover {\n",
       "  /* unfitted */\n",
       "  background-color: var(--sklearn-color-unfitted-level-3);\n",
       "  color: var(--sklearn-color-background);\n",
       "  text-decoration: none;\n",
       "}\n",
       "\n",
       "#sk-container-id-1 a.estimator_doc_link.fitted:hover {\n",
       "  /* fitted */\n",
       "  background-color: var(--sklearn-color-fitted-level-3);\n",
       "}\n",
       "</style><div id=\"sk-container-id-1\" class=\"sk-top-container\"><div class=\"sk-text-repr-fallback\"><pre>DecisionTreeClassifier()</pre><b>In a Jupyter environment, please rerun this cell to show the HTML representation or trust the notebook. <br />On GitHub, the HTML representation is unable to render, please try loading this page with nbviewer.org.</b></div><div class=\"sk-container\" hidden><div class=\"sk-item\"><div class=\"sk-estimator fitted sk-toggleable\"><input class=\"sk-toggleable__control sk-hidden--visually\" id=\"sk-estimator-id-1\" type=\"checkbox\" checked><label for=\"sk-estimator-id-1\" class=\"sk-toggleable__label fitted sk-toggleable__label-arrow fitted\">&nbsp;&nbsp;DecisionTreeClassifier<a class=\"sk-estimator-doc-link fitted\" rel=\"noreferrer\" target=\"_blank\" href=\"https://scikit-learn.org/1.5/modules/generated/sklearn.tree.DecisionTreeClassifier.html\">?<span>Documentation for DecisionTreeClassifier</span></a><span class=\"sk-estimator-doc-link fitted\">i<span>Fitted</span></span></label><div class=\"sk-toggleable__content fitted\"><pre>DecisionTreeClassifier()</pre></div> </div></div></div></div>"
      ],
      "text/plain": [
       "DecisionTreeClassifier()"
      ]
     },
     "execution_count": 89,
     "metadata": {},
     "output_type": "execute_result"
    }
   ],
   "source": [
    "from sklearn import tree\n",
    "from sklearn.tree import DecisionTreeClassifier\n",
    "\n",
    "dtree = DecisionTreeClassifier()\n",
    "dtree.fit(X_train, y_train)\n"
   ]
  },
  {
   "cell_type": "code",
   "execution_count": 90,
   "metadata": {},
   "outputs": [],
   "source": [
    "y_pred_tree = dtree.predict(X_test)"
   ]
  },
  {
   "cell_type": "markdown",
   "metadata": {},
   "source": [
    "### 5.3.3 XGBoost"
   ]
  },
  {
   "cell_type": "code",
   "execution_count": 91,
   "metadata": {},
   "outputs": [
    {
     "name": "stderr",
     "output_type": "stream",
     "text": [
      "/Users/konradwronski/miniconda3/lib/python3.11/site-packages/sklearn/ensemble/_gb.py:668: DataConversionWarning: A column-vector y was passed when a 1d array was expected. Please change the shape of y to (n_samples, ), for example using ravel().\n",
      "  y = column_or_1d(y, warn=True)  # TODO: Is this still required?\n"
     ]
    }
   ],
   "source": [
    "from sklearn.ensemble import GradientBoostingRegressor\n",
    "\n",
    "xgboost = GradientBoostingRegressor(random_state=0)\n",
    "xgboost.fit(X_train, y_train)\n",
    "\n",
    "y_pred_xgboost = xgboost.predict(X_test)"
   ]
  },
  {
   "cell_type": "markdown",
   "metadata": {},
   "source": [
    "### 6. Models evaluation"
   ]
  },
  {
   "cell_type": "markdown",
   "metadata": {},
   "source": [
    "We will use 2 different metrics to evaluate our models:\n",
    "- Mean Absolute Error (MAE)\n",
    "- Mean Squared Error (MSE)"
   ]
  },
  {
   "cell_type": "code",
   "execution_count": 92,
   "metadata": {},
   "outputs": [],
   "source": [
    "from sklearn.metrics import mean_squared_error, mean_absolute_error\n",
    "def evaluate_model(model, y_true, y_pred):\n",
    "    mse = mean_squared_error(y_true, y_pred)\n",
    "    mae = mean_absolute_error(y_true, y_pred)\n",
    "    return print(f\"For model: {model}, MSE: {mse}, MAE: {mae}\")"
   ]
  },
  {
   "cell_type": "code",
   "execution_count": 56,
   "metadata": {},
   "outputs": [
    {
     "name": "stdout",
     "output_type": "stream",
     "text": [
      "For model: Linear Regression, MSE: 50855.96013219502, MAE: 84.70703645913372\n",
      "For model: Decision Tree, MSE: 64304.385628742515, MAE: 102.11377245508982\n",
      "For model: XGBoost, MSE: 45962.38592200261, MAE: 74.36952542357778\n"
     ]
    }
   ],
   "source": [
    "evaluate_model(\"Linear Regression\", y_test, y_pred_LOGREG)\n",
    "evaluate_model(\"Decision Tree\", y_test, y_pred_tree)\n",
    "evaluate_model(\"XGBoost\", y_test, y_pred_xgboost)"
   ]
  },
  {
   "cell_type": "markdown",
   "metadata": {},
   "source": [
    "### 7. Summary "
   ]
  },
  {
   "cell_type": "markdown",
   "metadata": {},
   "source": [
    "- All of the models showed poor performance based on MSE and MAE. \n",
    "- The best performing model was XGBoost. \n",
    "- For future analysis - need more correlated features, clean and try to use logistic scale on the skewed variables. "
   ]
  }
 ],
 "metadata": {
  "kernelspec": {
   "display_name": "base",
   "language": "python",
   "name": "python3"
  },
  "language_info": {
   "codemirror_mode": {
    "name": "ipython",
    "version": 3
   },
   "file_extension": ".py",
   "mimetype": "text/x-python",
   "name": "python",
   "nbconvert_exporter": "python",
   "pygments_lexer": "ipython3",
   "version": "3.11.6"
  }
 },
 "nbformat": 4,
 "nbformat_minor": 2
}
