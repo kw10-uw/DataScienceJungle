{
 "cells": [
  {
   "cell_type": "markdown",
   "metadata": {},
   "source": [
    "# Statistics Journey Part 4 - Graphical Analysis of Data"
   ]
  },
  {
   "cell_type": "markdown",
   "metadata": {},
   "source": [
    "# Exercise 1 \n",
    "This dataset contain selected variables from European Social Survey for\n",
    "2014.\n",
    "- The variable ‘cgtsmke’ contains data on smoking behavior of individuals. Assign labels\n",
    "to data on smoking behavior as follows: 1 “I smoke daily”, 2 ”I smoke but not every\n",
    "day”, 3 “I don't smoke now but I used to”, 4 ”I have only smoked a few times, 5 “ I have\n",
    "never smoked “\n",
    "- Summarize the distribution of the smoking behavior of Europeans (for all countries)\n",
    "using relevant charts.\n",
    "- Compare the distribution of smoking behavior of Polish people and other European\n",
    "nation (whichever you want) on one graph.\n",
    "- The variable ‘fclcntr’ contains answers to the question “How close do you feel to your\n",
    "country?”. Assign labels to this variable as follows: 1 “Very close”, 2 “Close”, 3 ”Not very close” 4 “Not close at all”.\n",
    "- Prepare a graph describing the variation across European countries in their attachment\n",
    "to the home country.\n",
    "- Plot the distribution of age (agea) for Poland and Germany. Use both histogram and\n",
    "density plots. Compare the distributions of the Polish and German populations by age –\n",
    "is there any noticeable pattern?\n",
    "- Summarize the distribution of the education level measured by the years of completed\n",
    "education (edulvlb) by country. In which European country study the longest?"
   ]
  },
  {
   "cell_type": "code",
   "execution_count": 1,
   "metadata": {},
   "outputs": [
    {
     "name": "stderr",
     "output_type": "stream",
     "text": [
      "/var/folders/1m/mckmrfpx3yn1g1wj1m8cxm000000gn/T/ipykernel_17968/1099235115.py:1: DeprecationWarning: \n",
      "Pyarrow will become a required dependency of pandas in the next major release of pandas (pandas 3.0),\n",
      "(to allow more performant data types, such as the Arrow string type, and better interoperability with other libraries)\n",
      "but was not found to be installed on your system.\n",
      "If this would cause problems for you,\n",
      "please provide us feedback at https://github.com/pandas-dev/pandas/issues/54466\n",
      "        \n",
      "  import pandas as pd\n"
     ]
    }
   ],
   "source": [
    "import pandas as pd \n",
    "import numpy as np \n",
    "import matplotlib.pyplot as plt \n",
    "import seaborn as sns"
   ]
  },
  {
   "cell_type": "code",
   "execution_count": 2,
   "metadata": {},
   "outputs": [
    {
     "data": {
      "text/html": [
       "<div>\n",
       "<style scoped>\n",
       "    .dataframe tbody tr th:only-of-type {\n",
       "        vertical-align: middle;\n",
       "    }\n",
       "\n",
       "    .dataframe tbody tr th {\n",
       "        vertical-align: top;\n",
       "    }\n",
       "\n",
       "    .dataframe thead th {\n",
       "        text-align: right;\n",
       "    }\n",
       "</style>\n",
       "<table border=\"1\" class=\"dataframe\">\n",
       "  <thead>\n",
       "    <tr style=\"text-align: right;\">\n",
       "      <th></th>\n",
       "      <th>name</th>\n",
       "      <th>idno</th>\n",
       "      <th>cntry</th>\n",
       "      <th>tvtot</th>\n",
       "      <th>tvpol</th>\n",
       "      <th>polintr</th>\n",
       "      <th>vote</th>\n",
       "      <th>lrscale</th>\n",
       "      <th>stflife</th>\n",
       "      <th>happy</th>\n",
       "      <th>...</th>\n",
       "      <th>alcfreq</th>\n",
       "      <th>height</th>\n",
       "      <th>weight</th>\n",
       "      <th>gndr</th>\n",
       "      <th>agea</th>\n",
       "      <th>yrbrn</th>\n",
       "      <th>marsts</th>\n",
       "      <th>edulvlb</th>\n",
       "      <th>eduyrs</th>\n",
       "      <th>emplrel</th>\n",
       "    </tr>\n",
       "  </thead>\n",
       "  <tbody>\n",
       "    <tr>\n",
       "      <th>0</th>\n",
       "      <td>ESS7e02_1</td>\n",
       "      <td>1</td>\n",
       "      <td>AT</td>\n",
       "      <td>4.0</td>\n",
       "      <td>1.0</td>\n",
       "      <td>2.0</td>\n",
       "      <td>1.0</td>\n",
       "      <td>4.0</td>\n",
       "      <td>10.0</td>\n",
       "      <td>7.0</td>\n",
       "      <td>...</td>\n",
       "      <td>2.0</td>\n",
       "      <td>188.0</td>\n",
       "      <td>90.0</td>\n",
       "      <td>1.0</td>\n",
       "      <td>51.0</td>\n",
       "      <td>1964.0</td>\n",
       "      <td>6.0</td>\n",
       "      <td>322.0</td>\n",
       "      <td>13.0</td>\n",
       "      <td>1.0</td>\n",
       "    </tr>\n",
       "    <tr>\n",
       "      <th>1</th>\n",
       "      <td>ESS7e02_1</td>\n",
       "      <td>2</td>\n",
       "      <td>AT</td>\n",
       "      <td>7.0</td>\n",
       "      <td>3.0</td>\n",
       "      <td>1.0</td>\n",
       "      <td>1.0</td>\n",
       "      <td>0.0</td>\n",
       "      <td>7.0</td>\n",
       "      <td>5.0</td>\n",
       "      <td>...</td>\n",
       "      <td>6.0</td>\n",
       "      <td>162.0</td>\n",
       "      <td>90.0</td>\n",
       "      <td>1.0</td>\n",
       "      <td>67.0</td>\n",
       "      <td>1948.0</td>\n",
       "      <td>4.0</td>\n",
       "      <td>113.0</td>\n",
       "      <td>8.0</td>\n",
       "      <td>1.0</td>\n",
       "    </tr>\n",
       "    <tr>\n",
       "      <th>2</th>\n",
       "      <td>ESS7e02_1</td>\n",
       "      <td>4</td>\n",
       "      <td>AT</td>\n",
       "      <td>3.0</td>\n",
       "      <td>1.0</td>\n",
       "      <td>2.0</td>\n",
       "      <td>1.0</td>\n",
       "      <td>7.0</td>\n",
       "      <td>8.0</td>\n",
       "      <td>9.0</td>\n",
       "      <td>...</td>\n",
       "      <td>3.0</td>\n",
       "      <td>176.0</td>\n",
       "      <td>84.0</td>\n",
       "      <td>1.0</td>\n",
       "      <td>32.0</td>\n",
       "      <td>1983.0</td>\n",
       "      <td>6.0</td>\n",
       "      <td>322.0</td>\n",
       "      <td>13.0</td>\n",
       "      <td>1.0</td>\n",
       "    </tr>\n",
       "    <tr>\n",
       "      <th>3</th>\n",
       "      <td>ESS7e02_1</td>\n",
       "      <td>6</td>\n",
       "      <td>AT</td>\n",
       "      <td>2.0</td>\n",
       "      <td>2.0</td>\n",
       "      <td>1.0</td>\n",
       "      <td>1.0</td>\n",
       "      <td>10.0</td>\n",
       "      <td>10.0</td>\n",
       "      <td>10.0</td>\n",
       "      <td>...</td>\n",
       "      <td>5.0</td>\n",
       "      <td>160.0</td>\n",
       "      <td>62.0</td>\n",
       "      <td>2.0</td>\n",
       "      <td>67.0</td>\n",
       "      <td>1948.0</td>\n",
       "      <td>NaN</td>\n",
       "      <td>322.0</td>\n",
       "      <td>11.0</td>\n",
       "      <td>1.0</td>\n",
       "    </tr>\n",
       "    <tr>\n",
       "      <th>4</th>\n",
       "      <td>ESS7e02_1</td>\n",
       "      <td>7</td>\n",
       "      <td>AT</td>\n",
       "      <td>7.0</td>\n",
       "      <td>5.0</td>\n",
       "      <td>2.0</td>\n",
       "      <td>1.0</td>\n",
       "      <td>5.0</td>\n",
       "      <td>7.0</td>\n",
       "      <td>8.0</td>\n",
       "      <td>...</td>\n",
       "      <td>2.0</td>\n",
       "      <td>186.0</td>\n",
       "      <td>102.0</td>\n",
       "      <td>1.0</td>\n",
       "      <td>66.0</td>\n",
       "      <td>1949.0</td>\n",
       "      <td>NaN</td>\n",
       "      <td>322.0</td>\n",
       "      <td>12.0</td>\n",
       "      <td>1.0</td>\n",
       "    </tr>\n",
       "  </tbody>\n",
       "</table>\n",
       "<p>5 rows × 24 columns</p>\n",
       "</div>"
      ],
      "text/plain": [
       "        name  idno cntry  tvtot  tvpol  polintr  vote  lrscale  stflife  \\\n",
       "0  ESS7e02_1     1    AT    4.0    1.0      2.0   1.0      4.0     10.0   \n",
       "1  ESS7e02_1     2    AT    7.0    3.0      1.0   1.0      0.0      7.0   \n",
       "2  ESS7e02_1     4    AT    3.0    1.0      2.0   1.0      7.0      8.0   \n",
       "3  ESS7e02_1     6    AT    2.0    2.0      1.0   1.0     10.0     10.0   \n",
       "4  ESS7e02_1     7    AT    7.0    5.0      2.0   1.0      5.0      7.0   \n",
       "\n",
       "   happy  ...  alcfreq  height  weight  gndr  agea   yrbrn  marsts  edulvlb  \\\n",
       "0    7.0  ...      2.0   188.0    90.0   1.0  51.0  1964.0     6.0    322.0   \n",
       "1    5.0  ...      6.0   162.0    90.0   1.0  67.0  1948.0     4.0    113.0   \n",
       "2    9.0  ...      3.0   176.0    84.0   1.0  32.0  1983.0     6.0    322.0   \n",
       "3   10.0  ...      5.0   160.0    62.0   2.0  67.0  1948.0     NaN    322.0   \n",
       "4    8.0  ...      2.0   186.0   102.0   1.0  66.0  1949.0     NaN    322.0   \n",
       "\n",
       "   eduyrs  emplrel  \n",
       "0    13.0      1.0  \n",
       "1     8.0      1.0  \n",
       "2    13.0      1.0  \n",
       "3    11.0      1.0  \n",
       "4    12.0      1.0  \n",
       "\n",
       "[5 rows x 24 columns]"
      ]
     },
     "execution_count": 2,
     "metadata": {},
     "output_type": "execute_result"
    }
   ],
   "source": [
    "smoke = pd.read_csv(\"ESS_data.csv\")\n",
    "smoke.head(5)"
   ]
  },
  {
   "cell_type": "markdown",
   "metadata": {},
   "source": [
    "Assigning labels"
   ]
  },
  {
   "cell_type": "code",
   "execution_count": 5,
   "metadata": {},
   "outputs": [],
   "source": [
    "dict_smoke = {1.0:\"I smoke daily\", 2.0:\"I smoke but not every day\", \n",
    "              3.0:\"I don't smoke now but I used to\", 4.0:\"I have only smoked a few times\", \n",
    "              5.0:\"I have never smoked\"}"
   ]
  },
  {
   "cell_type": "markdown",
   "metadata": {},
   "source": [
    "Good approach to quickly assign the labels is to use map method"
   ]
  },
  {
   "cell_type": "code",
   "execution_count": 7,
   "metadata": {},
   "outputs": [],
   "source": [
    "smoke[\"SmokingBehavior\"] = smoke[\"cgtsmke\"].map(dict_smoke)"
   ]
  },
  {
   "cell_type": "code",
   "execution_count": 16,
   "metadata": {},
   "outputs": [
    {
     "data": {
      "text/plain": [
       "<Axes: xlabel='SmokingBehavior', ylabel='count'>"
      ]
     },
     "execution_count": 16,
     "metadata": {},
     "output_type": "execute_result"
    },
    {
     "data": {
      "image/png": "[encoded data removed]",
      "text/plain": [
       "<Figure size 640x480 with 1 Axes>"
      ]
     },
     "metadata": {},
     "output_type": "display_data"
    }
   ],
   "source": [
    "globalSmoking = sns.countplot(smoke, x = \"SmokingBehavior\")\n",
    "plt.xticks(rotation = 90)\n",
    "globalSmoking"
   ]
  }
 ],
 "metadata": {
  "kernelspec": {
   "display_name": "base",
   "language": "python",
   "name": "python3"
  },
  "language_info": {
   "codemirror_mode": {
    "name": "ipython",
    "version": 3
   },
   "file_extension": ".py",
   "mimetype": "text/x-python",
   "name": "python",
   "nbconvert_exporter": "python",
   "pygments_lexer": "ipython3",
   "version": "3.11.6"
  }
 },
 "nbformat": 4,
 "nbformat_minor": 2
}
