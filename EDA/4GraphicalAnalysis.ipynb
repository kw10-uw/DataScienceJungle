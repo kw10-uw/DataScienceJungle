{
 "cells": [
  {
   "cell_type": "markdown",
   "metadata": {},
   "source": [
    "# Statistics Journey Part 4 - Graphical Analysis of Data"
   ]
  },
  {
   "cell_type": "markdown",
   "metadata": {},
   "source": [
    "# Exercise 1 \n",
    "This dataset contain selected variables from European Social Survey for\n",
    "2014.\n",
    "- The variable ‘cgtsmke’ contains data on smoking behavior of individuals. Assign labels\n",
    "to data on smoking behavior as follows: 1 “I smoke daily”, 2 ”I smoke but not every\n",
    "day”, 3 “I don't smoke now but I used to”, 4 ”I have only smoked a few times, 5 “ I have\n",
    "never smoked “\n",
    "- Summarize the distribution of the smoking behavior of Europeans (for all countries)\n",
    "using relevant charts.\n",
    "- Compare the distribution of smoking behavior of Polish people and other European\n",
    "nation (whichever you want) on one graph.\n",
    "- The variable ‘fclcntr’ contains answers to the question “How close do you feel to your\n",
    "country?”. Assign labels to this variable as follows: 1 “Very close”, 2 “Close”, 3 ”Not very close” 4 “Not close at all”.\n",
    "- Prepare a graph describing the variation across European countries in their attachment\n",
    "to the home country.\n",
    "- Plot the distribution of age (agea) for Poland and Germany. Use both histogram and\n",
    "density plots. Compare the distributions of the Polish and German populations by age –\n",
    "is there any noticeable pattern?\n",
    "- Summarize the distribution of the education level measured by the years of completed\n",
    "education (edulvlb) by country. In which European country study the longest?"
   ]
  }
 ],
 "metadata": {
  "language_info": {
   "name": "python"
  }
 },
 "nbformat": 4,
 "nbformat_minor": 2
}
