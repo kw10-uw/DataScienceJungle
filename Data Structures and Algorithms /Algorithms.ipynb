{
 "cells": [
  {
   "cell_type": "markdown",
   "metadata": {},
   "source": [
    "# Data Structures and Algorithms "
   ]
  },
  {
   "cell_type": "markdown",
   "metadata": {},
   "source": [
    "This notebook will serve the purpose to revise and learn about algortihms and most useful data structures. "
   ]
  },
  {
   "cell_type": "code",
   "execution_count": 1,
   "metadata": {},
   "outputs": [
    {
     "name": "stderr",
     "output_type": "stream",
     "text": [
      "/var/folders/1m/mckmrfpx3yn1g1wj1m8cxm000000gn/T/ipykernel_99040/3595694020.py:1: DeprecationWarning: \n",
      "Pyarrow will become a required dependency of pandas in the next major release of pandas (pandas 3.0),\n",
      "(to allow more performant data types, such as the Arrow string type, and better interoperability with other libraries)\n",
      "but was not found to be installed on your system.\n",
      "If this would cause problems for you,\n",
      "please provide us feedback at https://github.com/pandas-dev/pandas/issues/54466\n",
      "        \n",
      "  import pandas as pd\n"
     ]
    }
   ],
   "source": [
    "import pandas as pd \n",
    "import numpy as np \n",
    "import random \n",
    "import math"
   ]
  },
  {
   "cell_type": "markdown",
   "metadata": {},
   "source": [
    "### 1. Algorithms"
   ]
  },
  {
   "attachments": {
    "newplot.png": {
     "image/png": "[encoded data removed]"
    }
   },
   "cell_type": "markdown",
   "metadata": {},
   "source": [
    "![newplot.png](attachment:newplot.png)"
   ]
  },
  {
   "cell_type": "markdown",
   "metadata": {},
   "source": [
    "Write two Python functions to find the minimum number in a list. The first function should compare each number to every other number on the list O(n2). The second function should be linear O(n)."
   ]
  },
  {
   "cell_type": "markdown",
   "metadata": {},
   "source": [
    "### 1.1 Anagram Detection \n",
    " - Detecting if one string is an anagram of the second string"
   ]
  },
  {
   "cell_type": "code",
   "execution_count": 7,
   "metadata": {},
   "outputs": [
    {
     "data": {
      "text/plain": [
       "True"
      ]
     },
     "execution_count": 7,
     "metadata": {},
     "output_type": "execute_result"
    }
   ],
   "source": [
    "# Checking off method \n",
    "\n",
    "def checking_off(s1, s2):\n",
    "    still_ok = True \n",
    "    if len(s1) != len(s2):\n",
    "        still_ok = False\n",
    "\n",
    "    a_list = list(s2)\n",
    "    pos_1 = 0 \n",
    "    while pos_1 < len(s1) and still_ok:\n",
    "        pos_2 = 0\n",
    "        found = False\n",
    "        while pos_2 < len(a_list) and not found: \n",
    "            if s1[pos_1] == a_list[pos_2]:\n",
    "                found = True \n",
    "            else:\n",
    "                pos_2 += 1 \n",
    "        if found:\n",
    "            a_list[pos_2] = None\n",
    "        else:\n",
    "            still_ok = False\n",
    "        pos_1 += 1\n",
    "\n",
    "    return still_ok\n",
    "\n",
    "checking_off(\"heart\", \"earth\")"
   ]
  },
  {
   "cell_type": "markdown",
   "metadata": {},
   "source": [
    "O(n^2)"
   ]
  },
  {
   "cell_type": "code",
   "execution_count": 9,
   "metadata": {},
   "outputs": [
    {
     "data": {
      "text/plain": [
       "False"
      ]
     },
     "execution_count": 9,
     "metadata": {},
     "output_type": "execute_result"
    }
   ],
   "source": [
    "# sorting list method\n",
    "\n",
    "def sorted_lists(s1, s2):\n",
    "    is_anagram = True\n",
    "    if len(s1) != len(s2):\n",
    "        is_anagram = False\n",
    "    \n",
    "    a_list = list(s1)\n",
    "    b_list = list(s2)\n",
    "\n",
    "    a_list.sort()\n",
    "    b_list.sort()\n",
    "\n",
    "    if a_list == b_list:\n",
    "        is_anagram = True\n",
    "    else:\n",
    "        is_anagram = False\n",
    "    \n",
    "    return is_anagram\n",
    "\n",
    "sorted_lists(\"t\", \"earth\")\n",
    "    \n"
   ]
  },
  {
   "cell_type": "markdown",
   "metadata": {},
   "source": [
    "Sorting takes a lot of computation so the order of magintude is either O(n^2) or O(nlogn)"
   ]
  },
  {
   "cell_type": "code",
   "execution_count": 10,
   "metadata": {},
   "outputs": [
    {
     "name": "stdout",
     "output_type": "stream",
     "text": [
      "True\n",
      "True\n",
      "False\n"
     ]
    }
   ],
   "source": [
    "def anagram_solution_4(s1, s2):\n",
    "    c1 = [0] * 26\n",
    "    c2 = [0] * 26\n",
    "\n",
    "    for i in range(len(s1)):\n",
    "        pos = ord(s1[i]) - ord(\"a\")\n",
    "        c1[pos] = c1[pos] + 1\n",
    "\n",
    "    for i in range(len(s2)):\n",
    "        pos = ord(s2[i]) - ord(\"a\")\n",
    "        c2[pos] = c2[pos] + 1\n",
    "\n",
    "    j = 0\n",
    "    still_ok = True\n",
    "    while j < 26 and still_ok:\n",
    "        if c1[j] == c2[j]:\n",
    "            j = j + 1\n",
    "        else:\n",
    "            still_ok = False\n",
    "\n",
    "    return still_ok\n",
    "\n",
    "\n",
    "print(anagram_solution_4(\"apple\", \"pleap\"))  # expected: True\n",
    "print(anagram_solution_4(\"abcd\", \"dcba\"))  # expected: True\n",
    "print(anagram_solution_4(\"abcd\", \"dcda\"))  # expected: False"
   ]
  },
  {
   "cell_type": "markdown",
   "metadata": {},
   "source": [
    "O(n) - fastest algorithm"
   ]
  },
  {
   "cell_type": "markdown",
   "metadata": {},
   "source": [
    "### 1.2"
   ]
  }
 ],
 "metadata": {
  "kernelspec": {
   "display_name": "base",
   "language": "python",
   "name": "python3"
  },
  "language_info": {
   "codemirror_mode": {
    "name": "ipython",
    "version": 3
   },
   "file_extension": ".py",
   "mimetype": "text/x-python",
   "name": "python",
   "nbconvert_exporter": "python",
   "pygments_lexer": "ipython3",
   "version": "3.11.6"
  }
 },
 "nbformat": 4,
 "nbformat_minor": 2
}
